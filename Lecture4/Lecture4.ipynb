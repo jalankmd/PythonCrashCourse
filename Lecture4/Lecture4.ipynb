{
 "cells": [
  {
   "cell_type": "markdown",
   "metadata": {},
   "source": [
    "# Lecture 4"
   ]
  },
  {
   "cell_type": "markdown",
   "metadata": {},
   "source": [
    "# Object Oriented Programming (OOP)"
   ]
  },
  {
   "cell_type": "code",
   "execution_count": 1,
   "metadata": {},
   "outputs": [],
   "source": [
    "## Object Orineted programming (OOP) allows programmers to create their own\n",
    "## objects that have methods and attributes\n",
    "\n",
    "## Commonly repeated tasks and objects can be defined with OOP to create\n",
    "## code that is more usable\n",
    "\n",
    "## Methods can be called on objects such as lists, strings,..etc using this \n",
    "## syntax: <object>.method()\n",
    "\n",
    "## Methods act as functions that use information about the object, as well as\n",
    "## the object itself to return results, or change the current object\n",
    "\n",
    "## We define an object using the class keyword and it looks like this\n",
    "## class NameOfclasee():\n",
    "##     def __init__(self,param1,param2):  ## called a method (__init__ method)\n",
    "##         self.param1 = param1\n",
    "##         self.param2 = param2\n",
    "##     def some_method(self):\n",
    "##         # perform some action\n",
    "##         print(self.param1)"
   ]
  },
  {
   "cell_type": "code",
   "execution_count": 2,
   "metadata": {},
   "outputs": [],
   "source": [
    "## Define a class called car \n",
    "class Car():\n",
    "    pass # empty class (use pass otherwise you get an error \"similar to function\")"
   ]
  },
  {
   "cell_type": "code",
   "execution_count": 3,
   "metadata": {},
   "outputs": [],
   "source": [
    "## Create an instance of the car class \n",
    "my_car = Car()"
   ]
  },
  {
   "cell_type": "code",
   "execution_count": 4,
   "metadata": {},
   "outputs": [
    {
     "data": {
      "text/plain": [
       "__main__.Car"
      ]
     },
     "execution_count": 4,
     "metadata": {},
     "output_type": "execute_result"
    }
   ],
   "source": [
    "## Let's check the type of my instance\n",
    "type(my_car)\n",
    "\n",
    "## __main__ is telling me that this class is imported from the main \n",
    "## script module"
   ]
  },
  {
   "cell_type": "code",
   "execution_count": 5,
   "metadata": {},
   "outputs": [],
   "source": [
    "import car_class"
   ]
  },
  {
   "cell_type": "code",
   "execution_count": 6,
   "metadata": {},
   "outputs": [
    {
     "data": {
      "text/plain": [
       "car_class.Car"
      ]
     },
     "execution_count": 6,
     "metadata": {},
     "output_type": "execute_result"
    }
   ],
   "source": [
    "## Create an instance of the car class in my module car_class\n",
    "my_second_car = car_class.Car()\n",
    "type(my_second_car)"
   ]
  },
  {
   "cell_type": "code",
   "execution_count": 7,
   "metadata": {},
   "outputs": [],
   "source": [
    "## Let's modify car class to include attributes\n",
    "\n",
    "class Car():\n",
    "\n",
    "    def __init__(self, color, brand, model):\n",
    "        ## Define a special method (__init__ method) which is going to be called\n",
    "        ## upon automatically whenever you create an instance of the class\n",
    "        ## Can be thought of as the the constructor for a class \n",
    "        \n",
    "        ## self parameter connect the __init__ method to the instance of the class\n",
    "        ## self parameter (can use other things) is a reference to the current\n",
    "        ## instance of the class\n",
    "        \n",
    "        ## The rest of the arguments represent attributes we want the user \n",
    "        ## to define when creating new object\n",
    "          \n",
    "        ## Attributes\n",
    "        ## we take in the argument and assign it to attribute using \n",
    "        ## self.attribute_name\n",
    "        self.color = color\n",
    "        self.brand = brand\n",
    "        self.model = model"
   ]
  },
  {
   "cell_type": "code",
   "execution_count": 8,
   "metadata": {},
   "outputs": [],
   "source": [
    "# my_car = Car() ## gives error because it's expecting the three parameters\n",
    "## color, brand, and model\n",
    "\n",
    "my_first_car = Car('Red', 'Ford', 'Mustang')\n",
    "my_second_car = Car(color = 'Blue', brand = 'Toyota', model = 'Prius')"
   ]
  },
  {
   "cell_type": "code",
   "execution_count": 9,
   "metadata": {},
   "outputs": [
    {
     "name": "stdout",
     "output_type": "stream",
     "text": [
      "Red\n",
      "Ford\n",
      "Mustang\n",
      "Blue\n",
      "Toyota\n",
      "Prius\n"
     ]
    }
   ],
   "source": [
    "## To access my_car object attributes I can type my_car. then press tab\n",
    "print(my_first_car.color)\n",
    "print(my_first_car.brand)\n",
    "print(my_first_car.model)\n",
    "\n",
    "print(my_second_car.color)\n",
    "print(my_second_car.brand)\n",
    "print(my_second_car.model)"
   ]
  },
  {
   "cell_type": "code",
   "execution_count": 10,
   "metadata": {},
   "outputs": [],
   "source": [
    "## Let's modify car class to include class object attributes\n",
    "## class object attributes are attributes that are the same for any instance\n",
    "## of the class (all cars are road vehicels)\n",
    "\n",
    "class Car():\n",
    "    \n",
    "    ## Class object attributes\n",
    "    ## Same for any instance of a class\n",
    "    vehicles_type = \"Road vehicles\"\n",
    "    \n",
    "    def __init__(self, color, brand, model):\n",
    "\n",
    "        ## Attributes\n",
    "        ## we take in the argument and assign it to attribute using \n",
    "        ## self.attribute_name\n",
    "        self.color = color\n",
    "        self.brand = brand\n",
    "        self.model = model\n",
    "        "
   ]
  },
  {
   "cell_type": "code",
   "execution_count": 11,
   "metadata": {},
   "outputs": [],
   "source": [
    "my_third_car = Car('Green', 'Volkswagen', 'Golf')"
   ]
  },
  {
   "cell_type": "code",
   "execution_count": 12,
   "metadata": {},
   "outputs": [
    {
     "name": "stdout",
     "output_type": "stream",
     "text": [
      "Road vehicles\n"
     ]
    },
    {
     "data": {
      "text/plain": [
       "'Road vehicles'"
      ]
     },
     "execution_count": 12,
     "metadata": {},
     "output_type": "execute_result"
    }
   ],
   "source": [
    "print(my_third_car.vehicles_type)\n",
    "## or we can access class object attributes using class.attribute\n",
    "Car.vehicles_type"
   ]
  },
  {
   "cell_type": "code",
   "execution_count": 13,
   "metadata": {},
   "outputs": [],
   "source": [
    "## Methods are functions defined inside the body of a class and used to perform\n",
    "## operations that sometimes utilizes the object attributes we created\n",
    "\n",
    "class Car():\n",
    "    \n",
    "    ## Class object attributes\n",
    "    ## Same for any instance of a class\n",
    "    vehicles_type = \"Road vehicles\"\n",
    "    \n",
    "    def __init__(self, color, brand, model):\n",
    "\n",
    "        ## Attributes\n",
    "        ## we take in the argument and assign it to attribute using \n",
    "        ## self.attribute_name\n",
    "        self.color = color\n",
    "        self.brand = brand\n",
    "        self.model = model\n",
    "        \n",
    "    ## Methods : operations and actions\n",
    "    \n",
    "    def full_refuel(self):\n",
    "        print('Your gas tank is full!')\n"
   ]
  },
  {
   "cell_type": "code",
   "execution_count": 14,
   "metadata": {},
   "outputs": [],
   "source": [
    "my_car = Car('Red', 'Ford', 'Mustang')\n"
   ]
  },
  {
   "cell_type": "code",
   "execution_count": 15,
   "metadata": {},
   "outputs": [
    {
     "name": "stdout",
     "output_type": "stream",
     "text": [
      "Your gas tank is full!\n"
     ]
    }
   ],
   "source": [
    "## Call attributes vs call methods\n",
    "\n",
    "## Call attributes without () \n",
    "my_car.color ## \n",
    "\n",
    "## Call methods with ()\n",
    "my_car.full_refuel()\n",
    "\n",
    "## Call function\n",
    "#len()"
   ]
  },
  {
   "cell_type": "code",
   "execution_count": 16,
   "metadata": {},
   "outputs": [],
   "source": [
    "## Methods are functions defined inside the body of a class and used to perform\n",
    "## operations that sometimes utilizes the object attributes we created\n",
    "\n",
    "class Car():\n",
    "    \n",
    "    ## Class object attributes\n",
    "    ## Same for any instance of a class\n",
    "    vehicles_type = \"Road vehicles\"\n",
    "    \n",
    "    def __init__(self, color, brand, model):\n",
    "\n",
    "        ## Attributes\n",
    "        ## we take in the argument and assign it to attribute using \n",
    "        ## self.attribute_name\n",
    "        self.color = color\n",
    "        self.brand = brand\n",
    "        self.model = model\n",
    "        \n",
    "    ## Methods : operations and actions\n",
    "    \n",
    "    def full_refuel(self):\n",
    "        print('The {} gas tank is full!'.format(self.brand))"
   ]
  },
  {
   "cell_type": "code",
   "execution_count": 17,
   "metadata": {},
   "outputs": [
    {
     "name": "stdout",
     "output_type": "stream",
     "text": [
      "The Ford gas tank is full!\n"
     ]
    }
   ],
   "source": [
    "my_car = Car('Red', 'Ford', 'Mustang')\n",
    "my_car.full_refuel()"
   ]
  },
  {
   "cell_type": "code",
   "execution_count": 18,
   "metadata": {},
   "outputs": [],
   "source": [
    "## Methods are functions defined inside the body of a class and used to perform\n",
    "## operations that sometimes utilizes the object attributes we created\n",
    "\n",
    "class Car():\n",
    "    \n",
    "    ## Class object attributes\n",
    "    ## Same for any instance of a class\n",
    "    vehicles_type = \"Road vehicles\"\n",
    "    \n",
    "    def __init__(self, color, brand, model):\n",
    "\n",
    "        ## Attributes\n",
    "        ## we take in the argument and assign it to attribute using \n",
    "        ## self.attribute_name\n",
    "        self.color = color\n",
    "        self.brand = brand\n",
    "        self.model = model\n",
    "        \n",
    "    ## Methods : operations and actions\n",
    "    \n",
    "    ## Method with no arguments passed by user\n",
    "    def full_refuel(self):\n",
    "        print('The {} gas tank is full!'.format(self.brand))\n",
    "        \n",
    "    ## Method with arguments passed by user    \n",
    "    def refuel(self,number):\n",
    "        print('The {} gas tank is {}% full!'.format(self.brand, number))"
   ]
  },
  {
   "cell_type": "code",
   "execution_count": 19,
   "metadata": {},
   "outputs": [
    {
     "name": "stdout",
     "output_type": "stream",
     "text": [
      "The Ford gas tank is 60% full!\n"
     ]
    }
   ],
   "source": [
    "my_car = Car('Red', 'Ford', 'Mustang')\n",
    "my_car.refuel(60)"
   ]
  },
  {
   "cell_type": "code",
   "execution_count": 20,
   "metadata": {},
   "outputs": [],
   "source": [
    "class Car():\n",
    "    \n",
    "    ## Class object attributes\n",
    "    ## Same for any instance of a class\n",
    "    vehicles_type = \"Road vehicles\"\n",
    "    \n",
    "    def __init__(self, color, brand, model):\n",
    "\n",
    "        ## Attributes\n",
    "        ## we take in the argument and assign it to attribute using \n",
    "        ## self.attribute_name\n",
    "        self.color = color\n",
    "        self.brand = brand\n",
    "        self.model = model\n",
    "        \n",
    "    ## Methods : operations and actions\n",
    "    \n",
    "    ## Method with no arguments passed by user\n",
    "    def full_refuel(self):\n",
    "        print('The {} gas tank is full!'.format(self.brand))\n",
    "        \n",
    "    ## Method with arguments passed by user    \n",
    "    def refuel(self,number):\n",
    "        print('The {} gas tank is {}% full!'.format(self.brand, number))\n",
    "        \n",
    "    ## Method with arguments passed by user that change the object\n",
    "    def change_color(self,color):\n",
    "        self.color = color\n",
    "    "
   ]
  },
  {
   "cell_type": "code",
   "execution_count": 21,
   "metadata": {},
   "outputs": [
    {
     "name": "stdout",
     "output_type": "stream",
     "text": [
      "orange\n"
     ]
    }
   ],
   "source": [
    "my_car = Car('Red', 'Ford', 'Mustang')\n",
    "my_car.change_color('orange')\n",
    "print(my_car.color)"
   ]
  },
  {
   "cell_type": "code",
   "execution_count": 22,
   "metadata": {},
   "outputs": [
    {
     "name": "stdout",
     "output_type": "stream",
     "text": [
      "Blue\n",
      "red\n"
     ]
    }
   ],
   "source": [
    "## Modify object attributes \n",
    "my_car.color = 'Blue'\n",
    "print(my_car.color)\n",
    "\n",
    "## Delete object attributes \n",
    "del my_car.color\n",
    "#print(my_car.color) gives error \n",
    "\n",
    "## Define emtpy object attribute \n",
    "my_car.color = 'red'\n",
    "print(my_car.color)\n",
    "\n",
    "## delete objects\n",
    "del my_car"
   ]
  },
  {
   "cell_type": "markdown",
   "metadata": {},
   "source": [
    "# Inheritances "
   ]
  },
  {
   "cell_type": "code",
   "execution_count": 23,
   "metadata": {},
   "outputs": [],
   "source": [
    "## Inheritances is a way to form new classes using classes that have already \n",
    "## been defined \n",
    "\n",
    "## The new class is called derived (or child) class and the one from which it\n",
    "## inherits is called base (or parent) class"
   ]
  },
  {
   "cell_type": "code",
   "execution_count": 24,
   "metadata": {},
   "outputs": [],
   "source": [
    "## This is our Car class defined earlier \n",
    "\n",
    "class Car():\n",
    "    \n",
    "    ## Class object attributes\n",
    "    ## Same for any instance of a class\n",
    "    vehicles_type = \"Road vehicles\"\n",
    "    \n",
    "    def __init__(self, color, brand, model):\n",
    "\n",
    "        ## Attributes\n",
    "        ## we take in the argument and assign it to attribute using \n",
    "        ## self.attribute_name\n",
    "        self.color = color\n",
    "        self.brand = brand\n",
    "        self.model = model\n",
    "        print(\"CAR CREATED\")\n",
    "        \n",
    "    ## Methods : operations and actions\n",
    "    \n",
    "    ## Method with no arguments passed by user\n",
    "    def full_refuel(self):\n",
    "        print('The {} gas tank is full!'.format(self.brand))\n",
    "        \n",
    "    ## Method with arguments passed by user    \n",
    "    def refuel(self,number):\n",
    "        print('The {} gas tank is {}% full!'.format(self.brand, number))\n",
    "        \n",
    "    ## Method with arguments passed by user that change the object\n",
    "    def change_color(self,color):\n",
    "        self.color = color"
   ]
  },
  {
   "cell_type": "code",
   "execution_count": 25,
   "metadata": {},
   "outputs": [],
   "source": [
    "## Derived class\n",
    "## A lot of the attributes and methods in Car class is useful to ElectricCar\n",
    "## class\n",
    "class ElectricCar(Car):\n",
    "    \n",
    "    def __init__(self, color, brand, model):\n",
    "        Car.__init__(self,color, brand, model) # Create an instance in my ElectricCar class\n",
    "        print(\"ELECTRIC CAR CREATED\")"
   ]
  },
  {
   "cell_type": "code",
   "execution_count": 26,
   "metadata": {},
   "outputs": [
    {
     "name": "stdout",
     "output_type": "stream",
     "text": [
      "CAR CREATED\n",
      "\n",
      "CAR CREATED\n",
      "ELECTRIC CAR CREATED\n",
      "\n",
      "The BMW gas tank is full!\n"
     ]
    }
   ],
   "source": [
    "my_car = Car('Red', 'Ford', 'Mustang')\n",
    "print('')\n",
    "my_electric_car = ElectricCar('Blue', 'BMW', 'i3')\n",
    "print('')\n",
    "\n",
    "## All the methods that were avaliable for the Car class are available for \n",
    "## ElectricCar class\n",
    "my_electric_car.full_refuel()"
   ]
  },
  {
   "cell_type": "code",
   "execution_count": 27,
   "metadata": {},
   "outputs": [],
   "source": [
    "## Derived class with overwiting a method and adding a new method\n",
    "\n",
    "class ElectricCar(Car):\n",
    "    \n",
    "    def __init__(self, color, brand, model):\n",
    "        Car.__init__(self,color, brand, model) # Create attributes in my \n",
    "        ## ElectricCar class similar to the attributes in Car class\n",
    "        print(\"ELECTRIC CAR CREATED\")\n",
    "    \n",
    "    def full_refuel(self): # overwrite a method \n",
    "        print('The {} is fully charger!'.format(self.brand))\n",
    "        \n",
    "    def empty(self): # add a method \n",
    "        print('The {} has no charger!'.format(self.brand))"
   ]
  },
  {
   "cell_type": "code",
   "execution_count": 28,
   "metadata": {},
   "outputs": [
    {
     "name": "stdout",
     "output_type": "stream",
     "text": [
      "CAR CREATED\n",
      "ELECTRIC CAR CREATED\n",
      "\n",
      "The BMW is fully charger!\n",
      "\n",
      "The BMW has no charger!\n"
     ]
    }
   ],
   "source": [
    "my_electric_car = ElectricCar('Blue', 'BMW', 'i3')\n",
    "print('')\n",
    "my_electric_car.full_refuel()\n",
    "print('')\n",
    "my_electric_car.empty()"
   ]
  },
  {
   "cell_type": "code",
   "execution_count": 29,
   "metadata": {},
   "outputs": [
    {
     "name": "stdout",
     "output_type": "stream",
     "text": [
      "triangle sides: [3, 4, 5]\n",
      "triangle perimeter: 12\n",
      "rectangle sides: [4, 2, 4, 2]\n",
      "rectangle perimeter: 12\n",
      "square sides: [2, 2, 2, 2]\n",
      "square perimeter: 8\n"
     ]
    }
   ],
   "source": [
    "## Let's create a class named Shape with an attribute named sides and a method\n",
    "## named perimeter\n",
    "## Base class\n",
    "\n",
    "class Shape():\n",
    "        \n",
    "    def __init__(self, sides):\n",
    "\n",
    "        ## Attributes\n",
    "        ## we take in the argument and assign it to attribute using \n",
    "        ## self.attribute_name\n",
    "        self.sides = sides\n",
    "    \n",
    "    ## Methods : operations and actions\n",
    "    def perimeter(self):\n",
    "        perimeter = 0\n",
    "        for side in self.sides:\n",
    "            perimeter = perimeter + side\n",
    "        return perimeter\n",
    "    \n",
    "    \n",
    "triangle = Shape([3, 4, 5])\n",
    "print(\"triangle sides:\", triangle.sides)\n",
    "print(\"triangle perimeter:\", triangle.perimeter())\n",
    "\n",
    "rectangle = Shape([4, 2, 4, 2])\n",
    "print(\"rectangle sides:\", rectangle.sides)\n",
    "print(\"rectangle perimeter:\", rectangle.perimeter())\n",
    "\n",
    "square = Shape([2, 2, 2, 2])\n",
    "print(\"square sides:\", square.sides)\n",
    "print(\"square perimeter:\", square.perimeter())"
   ]
  },
  {
   "cell_type": "code",
   "execution_count": 30,
   "metadata": {},
   "outputs": [
    {
     "name": "stdout",
     "output_type": "stream",
     "text": [
      "triangle sides: [3, 4, 5]\n",
      "triangle perimeter: 12\n",
      "rectangle sides: [4, 2, 4, 2]\n",
      "rectangle perimeter: 12\n",
      "square sides: [2, 2, 2, 2]\n",
      "square perimeter: 8\n"
     ]
    }
   ],
   "source": [
    "## let's create three classes for each shape with an attribute named sides\n",
    "\n",
    "## Base class\n",
    "\n",
    "class Shape():\n",
    "        \n",
    "    def __init__(self, sides):\n",
    "        ## Attributes\n",
    "        ## we take in the argument and assign it to attribute using \n",
    "        ## self.attribute_name\n",
    "        self.sides = sides\n",
    "    \n",
    "    ## Methods : operations and actions \n",
    "    ## Notice that self.sides is a list here\n",
    "    def perimeter(self):\n",
    "        perimeter = 0\n",
    "        for side in self.sides:\n",
    "            perimeter = perimeter + side\n",
    "        return perimeter\n",
    "    \n",
    "## Derived class\n",
    "class Triangle(Shape):\n",
    "    def __init__(self, side1, side2, side3):\n",
    "        self.sides = [side1, side2, side3] # create new attributes this is list\n",
    "        \n",
    "class Rectangle(Shape):\n",
    "    def __init__(self, length, width):\n",
    "        self.sides = [length, width, length, width] # create new attributes\n",
    "        \n",
    "class Square(Shape):\n",
    "    def __init__(self, side):\n",
    "        self.sides = [side, side, side, side] # create new attributes\n",
    "        \n",
    "triangle = Triangle(3, 4, 5)\n",
    "print(\"triangle sides:\", triangle.sides)\n",
    "print(\"triangle perimeter:\", triangle.perimeter())\n",
    "\n",
    "rectangle = Rectangle(4, 2)\n",
    "print(\"rectangle sides:\", rectangle.sides)\n",
    "print(\"rectangle perimeter:\", rectangle.perimeter())\n",
    "\n",
    "square = Square(2)\n",
    "print(\"square sides:\", square.sides)\n",
    "print(\"square perimeter:\", square.perimeter())"
   ]
  },
  {
   "cell_type": "code",
   "execution_count": 31,
   "metadata": {},
   "outputs": [
    {
     "name": "stdout",
     "output_type": "stream",
     "text": [
      "9.433981132056603\n",
      "\n",
      "-1.6\n",
      "27 \n",
      "\n",
      "113.03999999999999 \n",
      "\n",
      "9.42 \n",
      "\n",
      "shape cone is not defined\n",
      "None\n",
      "27 \n",
      "\n",
      "54 \n",
      "\n",
      "113.03999999999999 \n",
      "\n",
      "113.04 \n",
      "\n",
      "9.42 \n",
      "\n",
      "25.12 \n",
      "\n"
     ]
    }
   ],
   "source": [
    "## Example 1 \n",
    "\n",
    "## Task 1: Write a Python class names Line that takes two coordinates each is \n",
    "## a tuple (x,y) coordinate and return the slope and distance of the line\n",
    "class Line():\n",
    "    def __init__(self, coor1, coor2):\n",
    "        self.coor1 = coor1\n",
    "        self.coor2 = coor2\n",
    "    \n",
    "    def distance(self):\n",
    "        d = (((self.coor1[0]-self.coor2[0])**2 + (self.coor1[1]-self.coor2[1])**2))**0.5\n",
    "        return d\n",
    "    \n",
    "    def slope(self):\n",
    "        s = (self.coor1[1]-self.coor2[1])/(self.coor1[0]-self.coor2[0])\n",
    "        return s\n",
    "\n",
    "coordinate1 = (7,2)\n",
    "coordinate2 = (2,10)\n",
    "\n",
    "line = Line(coordinate1,coordinate2)\n",
    "print(line.distance())\n",
    "print('')\n",
    "print(line.slope())\n",
    "\n",
    "## Task 2: Write a Python class names ThreeDShapes that takes the 3D shape type \n",
    "## as string (cube, sphere, or cylinder) and the dimension of 3D-shapes and \n",
    "## return the volume of the shape, if the shape is not one of these \n",
    "## return shape (name) is not found\n",
    "\n",
    "## note for cylinder use shape_dim = [radius, height]\n",
    "\n",
    "class ThreeDShapes():\n",
    "    def __init__(self,shape_type, shape_dim):\n",
    "        self.shape_type = shape_type\n",
    "        self.shape_dim = shape_dim\n",
    "    \n",
    "    def volume(self):\n",
    "        if self.shape_type == 'cube':\n",
    "            v = self.shape_dim[0]**3\n",
    "            return v\n",
    "        elif self.shape_type == 'sphere':\n",
    "            v = ((4/3)* 3.14 * self.shape_dim[0]**3) \n",
    "            return v\n",
    "        elif self.shape_type == 'cylinder':\n",
    "            v = (3.14 * self.shape_dim[0]**2) * self.shape_dim[1]\n",
    "            return v\n",
    "        else: \n",
    "            print('shape {} is not defined'.format(self.shape_type))\n",
    "\n",
    "cube = ThreeDShapes('cube',[3])\n",
    "print(cube.volume(),'\\n')\n",
    "\n",
    "sphere = ThreeDShapes('sphere',[3])\n",
    "print(sphere.volume(),'\\n')\n",
    "\n",
    "cylinder = ThreeDShapes('cylinder',[1,3])\n",
    "print(cylinder.volume(),'\\n')\n",
    "\n",
    "shape = ThreeDShapes('cone',[1,2,3])\n",
    "print(shape.volume())\n",
    "\n",
    "## Task 3: Write three derived classes names Cube, Sphere, and Cylinder that \n",
    "## returns the volume and the surface area of the 3D shapes (use the solution\n",
    "## from Task 2 as the base class) and the volume method defined in the base\n",
    "## class to compute the volume\n",
    "\n",
    "class Cube(ThreeDShapes):\n",
    "    def __init__(self, shape_type, shape_dim):\n",
    "        ThreeDShapes.__init__(self, shape_type, shape_dim)\n",
    "    \n",
    "    def surface_area(self):\n",
    "        sa = 6*self.shape_dim[0]**2\n",
    "        return sa\n",
    "\n",
    "class Sphere(ThreeDShapes):\n",
    "    def __init__(self, shape_type, shape_dim):\n",
    "        ThreeDShapes.__init__(self, shape_type, shape_dim)\n",
    "    \n",
    "    def surface_area(self):\n",
    "        sa = 4*3.14*self.shape_dim[0]**2\n",
    "        return sa\n",
    "\n",
    "class Cylinder(ThreeDShapes):\n",
    "    def __init__(self, shape_type, shape_dim):\n",
    "        ThreeDShapes.__init__(self, shape_type, shape_dim)\n",
    "    \n",
    "    def surface_area(self):\n",
    "        sa = 2*3.14*self.shape_dim[0]*self.shape_dim[1] + 2*3.14*self.shape_dim[0]\n",
    "        return sa\n",
    "    \n",
    "cube = Cube('cube',[3])\n",
    "print(cube.volume(),'\\n')\n",
    "print(cube.surface_area(),'\\n')\n",
    "\n",
    "sphere = Sphere('sphere',[3])\n",
    "print(sphere.volume(),'\\n')\n",
    "print(sphere.surface_area(),'\\n')\n",
    "\n",
    "cylinder = Cylinder('cylinder',[1,3])\n",
    "print(cylinder.volume(),'\\n')\n",
    "print(cylinder.surface_area(),'\\n')"
   ]
  },
  {
   "cell_type": "markdown",
   "metadata": {},
   "source": [
    "# Modules and Packages"
   ]
  },
  {
   "cell_type": "code",
   "execution_count": 32,
   "metadata": {},
   "outputs": [],
   "source": [
    "## Modules are any text file containing python definition and statements with\n",
    "## the .py extension.\n",
    "\n",
    "## Modules can define different Python objects such as functions, classes, \n",
    "## variables, constants, etc.\n",
    "\n",
    "## A module objects can be made available to another Python script by using\n",
    "## the import statement.\n",
    "\n",
    "## Packages are a collection of modules.\n",
    "\n",
    "## Python has several built-in modules. \n"
   ]
  },
  {
   "cell_type": "code",
   "execution_count": 33,
   "metadata": {},
   "outputs": [
    {
     "name": "stdout",
     "output_type": "stream",
     "text": [
      "pi = 3.141592653589793\n",
      "e = 2.718281828459045\n",
      "5! = 120\n",
      "|-4| = 4.0\n",
      "sum of [1,2,3] = 6.0\n",
      "square root of 4 = 2.0\n",
      "e^3 = 20.085536923187668\n",
      "log2(8) = 3.0\n",
      "sin(pi/2) = 1.0\n"
     ]
    }
   ],
   "source": [
    "## Built-in modules\n",
    "\n",
    "## import the math module\n",
    "import math # import math \n",
    "\n",
    "## import speific function from the math module \n",
    "from math import e\n",
    "\n",
    "## Another way to import a module is to do import math as m \n",
    "\n",
    "## We can check the objects available in the math module by \n",
    "## typing math. then press tab\n",
    "\n",
    "## Math module has some constants \n",
    "\n",
    "## pi = 3.141\n",
    "print('pi =', math.pi)\n",
    "\n",
    "## e = 2.718\n",
    "print('e =', e) # this function was imported from the math module (we don't\n",
    "## need to call it with module_name.constant anymore)\n",
    "\n",
    "## Math module has some functions\n",
    "\n",
    "## Factorial\n",
    "print('5! =', math.factorial(5))\n",
    "\n",
    "## absolute value\n",
    "print('|-4| =', math.fabs(-4))\n",
    "\n",
    "## sum of list \n",
    "print('sum of [1,2,3] =', math.fsum([1,2,3]))\n",
    "\n",
    "## square root\n",
    "print('square root of 4 =', math.sqrt(4))\n",
    "\n",
    "## exp (return e raised to the power x)\n",
    "print('e^3 =', math.exp(3))\n",
    "\n",
    "## log (log#(x), where # is the base)\n",
    "print('log2(8) =', math.log2(8))\n",
    "\n",
    "## Trig functions (sin(x)) return sine of x radians\n",
    "print('sin(pi/2) =', math.sin(math.pi/2))\n",
    "\n",
    "## and many other functions"
   ]
  },
  {
   "cell_type": "code",
   "execution_count": 34,
   "metadata": {},
   "outputs": [
    {
     "name": "stdout",
     "output_type": "stream",
     "text": [
      "my_new_list =  [5, 2, 4, 1, 3, 0]\n",
      "my_new_list =  [1, 5, 0, 3, 4, 2]\n",
      "6\n",
      "0.35628299154163456\n"
     ]
    },
    {
     "data": {
      "text/plain": [
       "25.078757989595836"
      ]
     },
     "execution_count": 34,
     "metadata": {},
     "output_type": "execute_result"
    }
   ],
   "source": [
    "## To import function from libraries \n",
    "\n",
    "## Syntax\n",
    "## from <library> import <function> \n",
    "from random import shuffle ## shuffle function is imported from library random\n",
    "## shuffle can be used to randomly change the order of my list\n",
    "my_list = [0,1,2,3,4,5] # in-place \n",
    "shuffle(my_list)\n",
    "print(\"my_new_list = \", my_list)\n",
    "\n",
    "\n",
    "## Syntax\n",
    "## import library\n",
    "import random \n",
    "my_list = [0,1,2,3,4,5] # in-place function (changes the variable my_list)\n",
    "random.shuffle(my_list)\n",
    "print(\"my_new_list = \", my_list)\n",
    "\n",
    "\n",
    "# randint can be used to generate an integer from (start,end)\n",
    "print(random.randint(0,100))\n",
    "\n",
    "# random can be used to generate a float between 0 and 1 (not including 1)\n",
    "print(random.random())\n",
    "\n",
    "# uniform similar to randint but returns a float\n",
    "random.uniform(0,100)"
   ]
  },
  {
   "cell_type": "code",
   "execution_count": 35,
   "metadata": {},
   "outputs": [],
   "source": [
    "## Example 2\n",
    "\n",
    "## Task 1: write a function that generates two random numbers between 0 and 10\n",
    "## print the two numbers and return the result of e^first number + e^second number\n",
    "\n",
    "## Task 2: write a function that generates a list of random size (between 5\n",
    "## and 20) with random integer numbers \n",
    "\n",
    "## Task 3: Use the random list generated in Task 2 and replace each element\n",
    "## with its factorial if it's positive and take the absolute value of the \n",
    "## number if it's negative. Print the original list and the modified list"
   ]
  },
  {
   "cell_type": "code",
   "execution_count": 36,
   "metadata": {},
   "outputs": [],
   "source": [
    "### Example 2 Solutions"
   ]
  },
  {
   "cell_type": "markdown",
   "metadata": {},
   "source": [
    "# Create Modules and Packages"
   ]
  },
  {
   "cell_type": "code",
   "execution_count": 37,
   "metadata": {},
   "outputs": [],
   "source": [
    "## Create module\n",
    "\n",
    "## Create a module (file with .py) with the name mymodule using Notepad or \n",
    "## TextEdit and save it at the same location as your jupyter notebook\n",
    "## Your module will only have the function my_func:\n",
    "\n",
    "## def my_func():\n",
    "##    print(\"Hey I am in mymodule.py\")"
   ]
  },
  {
   "cell_type": "code",
   "execution_count": 38,
   "metadata": {},
   "outputs": [
    {
     "name": "stdout",
     "output_type": "stream",
     "text": [
      "Hey I am in mymodule.py\n"
     ]
    }
   ],
   "source": [
    "## First method to import functions from a module\n",
    "\n",
    "## Import a module \n",
    "import mymodule # Import module_name\n",
    "\n",
    "## Renamimg imported module \n",
    "# import mymodule as md\n",
    "\n",
    "## Call a function from the imported module\n",
    "mymodule.my_func() # module_name.function_name()"
   ]
  },
  {
   "cell_type": "code",
   "execution_count": 39,
   "metadata": {},
   "outputs": [
    {
     "name": "stdout",
     "output_type": "stream",
     "text": [
      "Hey I am in mymodule.py\n"
     ]
    }
   ],
   "source": [
    "## Second method to import functions from a module\n",
    "\n",
    "## import the function inside my module\n",
    "from mymodule import my_func # from module_name import function_name\n",
    "\n",
    "## import all attributes of a module.\n",
    "# from mymodule import * \n",
    "\n",
    "## Call the imported function\n",
    "my_func() # function_name()"
   ]
  },
  {
   "cell_type": "code",
   "execution_count": 40,
   "metadata": {},
   "outputs": [
    {
     "name": "stdout",
     "output_type": "stream",
     "text": [
      "This function is in my main package\n",
      "This function is in my subpackage\n"
     ]
    }
   ],
   "source": [
    "## Once we created the package and subpackage, it's time to import them\n",
    "## First method\n",
    "\n",
    "## Import a package\n",
    "from MyMainPackage import package \n",
    "# from package_directory import module_name\n",
    "\n",
    "## Import a subpackage\n",
    "from MyMainPackage.SubPackage import subpackage\n",
    "# from package_directory.subpackage_directory import module_name\n",
    "\n",
    "## Call the functions inside the imported modules \n",
    "\n",
    "## Call the function in the package module\n",
    "package.package_func()\n",
    "\n",
    "## Call the function in the subpackage module\n",
    "subpackage.subpackage_func()"
   ]
  },
  {
   "cell_type": "code",
   "execution_count": 41,
   "metadata": {},
   "outputs": [
    {
     "name": "stdout",
     "output_type": "stream",
     "text": [
      "This function is in my main package\n",
      "This function is in my subpackage\n"
     ]
    }
   ],
   "source": [
    "## Once we created the package and subpackage, it's time to import them\n",
    "\n",
    "## Second method\n",
    "## Import a package\n",
    "from MyMainPackage.package import package_func\n",
    "# from package_directory import module_name\n",
    "\n",
    "## Import a subpackage\n",
    "from MyMainPackage.SubPackage.subpackage import subpackage_func\n",
    "# from package_directory.subpackage_directory import module_name\n",
    "\n",
    "## Call the functions inside the imported modules \n",
    "\n",
    "## Call the function in the package module\n",
    "package_func()\n",
    "\n",
    "## Call the function in the subpackage module\n",
    "subpackage_func()"
   ]
  },
  {
   "cell_type": "code",
   "execution_count": 42,
   "metadata": {},
   "outputs": [],
   "source": [
    "## Example 3\n",
    "\n",
    "## Task 1:\n",
    "## Create a module that has two functions, the first one adds all the elements\n",
    "## in a list and the second multiplies all the elements in a list. \n",
    "## import your module in jupyter notebook and use its functions\n",
    "\n",
    "## Task 2: # Input/Output\n",
    "\n",
    "## Re-do Task 1, but this time make the functions take unspecified number of\n",
    "## parameters to add them or multiply them instead of a list of numbers"
   ]
  },
  {
   "cell_type": "markdown",
   "metadata": {},
   "source": [
    "# Input/Output"
   ]
  },
  {
   "cell_type": "code",
   "execution_count": 43,
   "metadata": {},
   "outputs": [],
   "source": [
    "## Input/Output with basic files in Python\n",
    "\n",
    "## We can create a text file in jupyter notebook as shown in next cell\n",
    "## This will create a text file and saves it at the same location as your\n",
    "## running jupyter notebook so you don't need to worry about the directory\n",
    "\n",
    "## note that %%writefile filename.txt should be the first line of the cell"
   ]
  },
  {
   "cell_type": "code",
   "execution_count": 44,
   "metadata": {},
   "outputs": [
    {
     "name": "stdout",
     "output_type": "stream",
     "text": [
      "Overwriting myfile.txt\n"
     ]
    }
   ],
   "source": [
    "%%writefile myfile.txt\n",
    "Python is an interpreted, high-level, general-purpose programming language\n",
    "Created by Guido van Rossum and first released in 1991"
   ]
  },
  {
   "cell_type": "code",
   "execution_count": 45,
   "metadata": {},
   "outputs": [
    {
     "data": {
      "text/plain": [
       "'Python is an interpreted, high-level, general-purpose programming language\\nCreated by Guido van Rossum and first released in 1991\\n'"
      ]
     },
     "execution_count": 45,
     "metadata": {},
     "output_type": "execute_result"
    }
   ],
   "source": [
    "## open() is used to open the file and takes two arguments open(filename,mode)\n",
    "## The first argument is the file name \n",
    "## The second argument is the mode ('r' is the defult)\n",
    "\n",
    "## The mode desrcibes in which way the file will be used \n",
    "## 'r' -> read only\n",
    "## 'w' -> write only (Create a new file or overwrite if it already exist)\n",
    "## 'a' -> Append (add at the end of the file)\n",
    "## 'r+' -> read + write \n",
    "## 'w+' -> writing + reading (Create a new file or overwrite if it already exist)\n",
    "\n",
    "myfile = open('myfile.txt','r') # open the file\n",
    "\n",
    "## Read the text file as one string\n",
    "myfile.read() "
   ]
  },
  {
   "cell_type": "code",
   "execution_count": 46,
   "metadata": {},
   "outputs": [
    {
     "data": {
      "text/plain": [
       "''"
      ]
     },
     "execution_count": 46,
     "metadata": {},
     "output_type": "execute_result"
    }
   ],
   "source": [
    "myfile.read() # read my text file again returns empty string\n",
    "## think of it that the cursor reached the end of the file after reading it"
   ]
  },
  {
   "cell_type": "code",
   "execution_count": 47,
   "metadata": {},
   "outputs": [
    {
     "data": {
      "text/plain": [
       "'Python is an interpreted, high-level, general-purpose programming language\\nCreated by Guido van Rossum and first released in 1991\\n'"
      ]
     },
     "execution_count": 47,
     "metadata": {},
     "output_type": "execute_result"
    }
   ],
   "source": [
    "## Reset the cursor to the beginning of the file \n",
    "myfile.seek(0)\n",
    "myfile.read() # read the file"
   ]
  },
  {
   "cell_type": "code",
   "execution_count": 48,
   "metadata": {},
   "outputs": [
    {
     "data": {
      "text/plain": [
       "['Python is an interpreted, high-level, general-purpose programming language',\n",
       " 'Created by Guido van Rossum and first released in 1991']"
      ]
     },
     "execution_count": 48,
     "metadata": {},
     "output_type": "execute_result"
    }
   ],
   "source": [
    "## To read the lines without the \\n shown\n",
    "myfile.seek(0)\n",
    "myfile.read().splitlines()"
   ]
  },
  {
   "cell_type": "code",
   "execution_count": 49,
   "metadata": {},
   "outputs": [
    {
     "name": "stdout",
     "output_type": "stream",
     "text": [
      "['Python is an interpreted, high-level, general-purpose programming language\\n', 'Created by Guido van Rossum and first released in 1991\\n']\n",
      "<class 'list'>\n"
     ]
    }
   ],
   "source": [
    "## Read the file as a list with each line represent an element in the list\n",
    "## First we need to reset the cursor\n",
    "myfile.seek(0) # reset the cursor\n",
    "l = myfile.readlines() #read the file as a list (each line is an element)\n",
    "print(l)\n",
    "print(type(l))"
   ]
  },
  {
   "cell_type": "code",
   "execution_count": 50,
   "metadata": {},
   "outputs": [],
   "source": [
    "## Close the file \n",
    "## You can't delete the text file from your computer because python is still\n",
    "## using it, so we need to close the file\n",
    "myfile.close()"
   ]
  },
  {
   "cell_type": "code",
   "execution_count": 51,
   "metadata": {},
   "outputs": [],
   "source": [
    "## Run a file that is not at the same location as the Jupyter notebook\n",
    "\n",
    "## First we can display the current directory by using pwd (should be \n",
    "## the first line in the cell)"
   ]
  },
  {
   "cell_type": "code",
   "execution_count": 52,
   "metadata": {},
   "outputs": [
    {
     "data": {
      "text/plain": [
       "'C:\\\\Users\\\\jalan\\\\Desktop\\\\Python Crash Course\\\\Lecture 4'"
      ]
     },
     "execution_count": 52,
     "metadata": {},
     "output_type": "execute_result"
    }
   ],
   "source": [
    "pwd # display the current directory"
   ]
  },
  {
   "cell_type": "code",
   "execution_count": 53,
   "metadata": {},
   "outputs": [],
   "source": [
    "## We need to provide the full file path \n",
    "## In Windows\n",
    "#myfile = open(\"C:\\\\Users\\\\UserName\\\\Desktop\\\\Folder\\\\myfile.txt\")\n",
    "\n",
    "## In Mac\n",
    "#myfile = open(\"/Users/UserName/Desktop/myfile.txt\")\n",
    "\n",
    "## the command pwd will show you the format in case you forgot"
   ]
  },
  {
   "cell_type": "code",
   "execution_count": 54,
   "metadata": {},
   "outputs": [],
   "source": [
    "## Another method for Reading/writing/appending without the need of closing \n",
    "## the file after is as follow\n",
    "with open('myfile.txt','r') as my_file: \n",
    "    contents = my_file.read()"
   ]
  },
  {
   "cell_type": "code",
   "execution_count": 55,
   "metadata": {},
   "outputs": [
    {
     "data": {
      "text/plain": [
       "'Python is an interpreted, high-level, general-purpose programming language\\nCreated by Guido van Rossum and first released in 1991\\n'"
      ]
     },
     "execution_count": 55,
     "metadata": {},
     "output_type": "execute_result"
    }
   ],
   "source": [
    "contents"
   ]
  },
  {
   "cell_type": "code",
   "execution_count": 56,
   "metadata": {},
   "outputs": [],
   "source": [
    "## Let's try to append to our myfile.text \n",
    "with open('myfile.txt','a') as myfile:\n",
    "    myfile.write('WE WANT TO ADD THIS LINE TO myfile.txt')"
   ]
  },
  {
   "cell_type": "code",
   "execution_count": 57,
   "metadata": {},
   "outputs": [
    {
     "name": "stdout",
     "output_type": "stream",
     "text": [
      "Python is an interpreted, high-level, general-purpose programming language\n",
      "Created by Guido van Rossum and first released in 1991\n",
      "WE WANT TO ADD THIS LINE TO myfile.txt\n"
     ]
    }
   ],
   "source": [
    "with open('myfile.txt','r') as my_file: \n",
    "    print(my_file.read())"
   ]
  }
 ],
 "metadata": {
  "kernelspec": {
   "display_name": "Python 3",
   "language": "python",
   "name": "python3"
  },
  "language_info": {
   "codemirror_mode": {
    "name": "ipython",
    "version": 3
   },
   "file_extension": ".py",
   "mimetype": "text/x-python",
   "name": "python",
   "nbconvert_exporter": "python",
   "pygments_lexer": "ipython3",
   "version": "3.7.3"
  }
 },
 "nbformat": 4,
 "nbformat_minor": 2
}
