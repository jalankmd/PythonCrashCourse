{
 "cells": [
  {
   "cell_type": "markdown",
   "metadata": {},
   "source": [
    "# Lecture 2"
   ]
  },
  {
   "cell_type": "markdown",
   "metadata": {},
   "source": [
    "# Comparison Operators"
   ]
  },
  {
   "cell_type": "code",
   "execution_count": 1,
   "metadata": {},
   "outputs": [
    {
     "name": "stdout",
     "output_type": "stream",
     "text": [
      "x == y : False\n",
      "x != y : True\n",
      "x > y : False\n",
      "x < y : True\n",
      "x >= y : False\n",
      "x <= y : True\n",
      "2 == 3.4: False\n"
     ]
    }
   ],
   "source": [
    "## Comparison operators are used to compare value and evaluate down \n",
    "## to a single Boolean value of either True or False\n",
    "\n",
    "## Assign two integers/floats to the two variables x and y\n",
    "x = 2\n",
    "y = 3.4\n",
    "\n",
    "print(\"x == y :\", x == y)\n",
    "print(\"x != y :\", x != y)\n",
    "print(\"x > y :\", x > y)\n",
    "print(\"x < y :\", x < y)\n",
    "print(\"x >= y :\", x >= y)\n",
    "print(\"x <= y :\", x <= y)\n",
    "\n",
    "## review: how to print with format\n",
    "print('{} == {}:'.format(x,y), x == y)"
   ]
  },
  {
   "cell_type": "code",
   "execution_count": 2,
   "metadata": {},
   "outputs": [
    {
     "name": "stdout",
     "output_type": "stream",
     "text": [
      "x == y : False\n",
      "x != y : True\n",
      "x > y : True\n",
      "x < y : False\n",
      "x >= y : True\n",
      "x <= y : False\n"
     ]
    }
   ],
   "source": [
    "## Comparison operators works with strings too \n",
    "\n",
    "## Assign two strings to the two variables x and y\n",
    "x = 'Hi'\n",
    "y = 'Hello'\n",
    "\n",
    "print(\"x == y :\", x == y) # equal\n",
    "print(\"x != y :\", x != y) # not equal\n",
    "print(\"x > y :\", x > y)   # strictly greater than\n",
    "print(\"x < y :\", x < y)   # strictly less than\n",
    "print(\"x >= y :\", x >= y) # greater than or equal\n",
    "print(\"x <= y :\", x <= y) # less than or equal\n",
    "\n",
    "## greater and less than results for strings are based on ASCII number of first\n",
    "## character, second character (if first is the same), ...etc\n",
    "## ASCII = American Standard Code for Information Interchange"
   ]
  },
  {
   "cell_type": "code",
   "execution_count": 3,
   "metadata": {},
   "outputs": [
    {
     "name": "stdout",
     "output_type": "stream",
     "text": [
      "ASCII code of the character a is: 97\n",
      "The character represnted by a ASCII number 97 is: a\n"
     ]
    }
   ],
   "source": [
    "## Computers can only understand numbers, so an ASCII code is the numerical\n",
    "## representation of a character such as 'a' or '@' \n",
    "\n",
    "## Find table on this link \n",
    "## https://python-reference.readthedocs.io/en/latest/docs/str/ASCII.html\n",
    "\n",
    "## ord() – built-in function returns the ASCII code of the character.\n",
    "## chr() – built-in function returns character represented by a ASCII number.\n",
    "\n",
    "Character = 'a'\n",
    "ASCII = ord(Character) # returns the ASCII code of the character\n",
    "print(\"ASCII code of the character {} is:\".format(Character),ASCII)\n",
    "\n",
    "print(\"The character represnted by a ASCII number {} is:\".format(ASCII), \n",
    "       chr(ASCII))"
   ]
  },
  {
   "cell_type": "code",
   "execution_count": 4,
   "metadata": {},
   "outputs": [
    {
     "name": "stdout",
     "output_type": "stream",
     "text": [
      "True\n",
      "False\n",
      "False\n"
     ]
    }
   ],
   "source": [
    "## Some equal/not equal operators rules\n",
    "\n",
    "## Integer 2 is equal to float 2.00\n",
    "print(2 == 2.00)\n",
    "\n",
    "## Integer 2 does not equal string '2'\n",
    "print(2 == '2')\n",
    "\n",
    "## Capitalization counts when comparing two strings\n",
    "print('Hi' == 'hi')"
   ]
  },
  {
   "cell_type": "markdown",
   "metadata": {},
   "source": [
    "# Logical Operators"
   ]
  },
  {
   "cell_type": "code",
   "execution_count": 5,
   "metadata": {},
   "outputs": [
    {
     "name": "stdout",
     "output_type": "stream",
     "text": [
      "True\n",
      "True\n",
      "False\n"
     ]
    }
   ],
   "source": [
    "## Logical operators are used to evaluate whether two ore more expressions \n",
    "## are True or False\n",
    "\n",
    "## Logical operator: and\n",
    "\n",
    "print(1 < 2 and 2 == 2) # both True -> returns: True\n",
    "\n",
    "print((1 < 2) and (2 < 3) and (5 != 3)) # We can have more than two expressions\n",
    "\n",
    "print(1 < 2 and 2 >= 3 and 4 > 3) # One False expression -> returns: False\n",
    "\n",
    "## Logical operator 'and' returns True only if all the expressions are True,\n",
    "## otherwise it returns false"
   ]
  },
  {
   "cell_type": "code",
   "execution_count": 6,
   "metadata": {},
   "outputs": [
    {
     "name": "stdout",
     "output_type": "stream",
     "text": [
      "True\n",
      "True\n",
      "True\n",
      "False\n"
     ]
    }
   ],
   "source": [
    "## Logical operator: or\n",
    "\n",
    "print(1 < 2 or 2 == 2) # both True -> returns: True\n",
    "\n",
    "print((1 < 2) or (2 < 3) or (5 != 3)) # We can have more than two expressions\n",
    "\n",
    "print(1 < 2 or 2 == 3 or 4 > 3) # One True expression -> returns: True\n",
    "\n",
    "print(1 > 2 or 2 == 3 or 4 <= 3) # All expression are False -> returns: False\n",
    "\n",
    "## Logical operator 'or' returns False only if all the expressions are False,\n",
    "## otherwise it returns True"
   ]
  },
  {
   "cell_type": "code",
   "execution_count": 7,
   "metadata": {},
   "outputs": [
    {
     "name": "stdout",
     "output_type": "stream",
     "text": [
      "True\n",
      "False\n",
      "True\n"
     ]
    }
   ],
   "source": [
    "## Logical operator: not\n",
    "\n",
    "print(2 == 2) \n",
    "\n",
    "print(not 2 == 2) # returns the oppoiste result (Since 2 == 2 is True)\n",
    "## not 2 == 2 returns the opposite of True which is False\n",
    "\n",
    "print(not(300 >= 500)) # returns the oppoiste result (Since 300 >= 500 is \n",
    "## False) not not(300 >= 500) returns the opposite of False which is True\n",
    "\n",
    "## Logical operator 'not' returns the opposite boolean of the result"
   ]
  },
  {
   "cell_type": "markdown",
   "metadata": {},
   "source": [
    "# Python Statements"
   ]
  },
  {
   "cell_type": "code",
   "execution_count": 8,
   "metadata": {},
   "outputs": [],
   "source": [
    "## Control flow statements in Python allow us to control the stream and outcome\n",
    "## of a program.\n",
    "\n",
    "## When writing a program, we might want some certain block of code to be \n",
    "## executed only when a particular condition has been met.\n",
    "\n",
    "## There are three control flow statements in Python - if, for, and while"
   ]
  },
  {
   "cell_type": "markdown",
   "metadata": {},
   "source": [
    "# Conditional Statements (if-elif-else)"
   ]
  },
  {
   "cell_type": "code",
   "execution_count": 9,
   "metadata": {},
   "outputs": [
    {
     "name": "stdout",
     "output_type": "stream",
     "text": [
      "a equal to b\n"
     ]
    }
   ],
   "source": [
    "## if statement\n",
    "\n",
    "a = 3 # define a \n",
    "b = 3 # define b\n",
    "if (a == b): # if <condition>:\n",
    "    print('a equal to b') # <statements(s)>\n",
    "    \n",
    "## condition should always be evaluated into boolean (True or False)"
   ]
  },
  {
   "cell_type": "code",
   "execution_count": 10,
   "metadata": {},
   "outputs": [
    {
     "name": "stdout",
     "output_type": "stream",
     "text": [
      "a does not equal to b\n"
     ]
    }
   ],
   "source": [
    "## if-else statement \n",
    "\n",
    "a = 3 # define a \n",
    "b = 4 # define b \n",
    "if (a == b): # execute if a equal b\n",
    "    print('a equal to b')\n",
    "else: # execute otherwise\n",
    "    print('a does not equal to b')"
   ]
  },
  {
   "cell_type": "code",
   "execution_count": 11,
   "metadata": {},
   "outputs": [
    {
     "name": "stdout",
     "output_type": "stream",
     "text": [
      "a is less than b\n"
     ]
    }
   ],
   "source": [
    "## if-elif-else statement\n",
    "\n",
    "a = 3 # define a \n",
    "b = 4 # define b \n",
    "if (a == b): # execute if a equal b\n",
    "    print('a equal to b')\n",
    "elif (a > b): # execute if a greater than b\n",
    "    print('a is greater than b')\n",
    "else: # execute otherwise\n",
    "    print('a is less than b')"
   ]
  },
  {
   "cell_type": "code",
   "execution_count": 12,
   "metadata": {},
   "outputs": [],
   "source": [
    "## Example 1\n",
    "\n",
    "## Task 1: Write a program that assign the variable x to a number and\n",
    "## computes the function f(x), where f(x) = x^2 when x >= 0 and -2*x when x < 0\n",
    "## ie: if x = 3, you should print this: 3^2 = 9\n",
    "\n",
    "## Task 2: Write a program that assign the variable x to a number and\n",
    "## print one of the following statements:\n",
    "## The number # is even and divisible by 3\n",
    "## The number # is even but not divisible by 3\n",
    "## The number # is odd "
   ]
  },
  {
   "cell_type": "code",
   "execution_count": 13,
   "metadata": {},
   "outputs": [
    {
     "name": "stdout",
     "output_type": "stream",
     "text": [
      "3^2 = 9\n",
      "\n",
      "The number 4 is even but not divisible by 3\n"
     ]
    }
   ],
   "source": [
    "## Example 1 Solution \n",
    "## Task 1:\n",
    "x = 3\n",
    "if x >= 0:\n",
    "    print('{}^2 = {}'.format(x,x**2))\n",
    "else: \n",
    "    print('-2*{} = {}'.format(x,-2*x))\n",
    "\n",
    "print('')\n",
    "\n",
    "## Task 2: \n",
    "x = 4\n",
    "if x%2 == 0 and x%3 == 0:\n",
    "    print('The number {} is even and divisible by 3'.format(x))    \n",
    "elif x%2 == 0 and not(x%3 == 0):\n",
    "    print('The number {} is even but not divisible by 3'.format(x))\n",
    "else:\n",
    "    print('The number {} is odd'.format(x))"
   ]
  },
  {
   "cell_type": "markdown",
   "metadata": {},
   "source": [
    "# For loop statement (for)"
   ]
  },
  {
   "cell_type": "code",
   "execution_count": 14,
   "metadata": {},
   "outputs": [
    {
     "name": "stdout",
     "output_type": "stream",
     "text": [
      "<str_iterator object at 0x00000205054702E8>\n",
      "<list_iterator object at 0x0000020505470240>\n",
      "<dict_keyiterator object at 0x000002050545B458>\n",
      "<tuple_iterator object at 0x0000020505460588>\n",
      "<set_iterator object at 0x0000020505456BD0>\n"
     ]
    }
   ],
   "source": [
    "## To check if an object is iterable, use the command iter()\n",
    "\n",
    "## number/float/boolean\n",
    "#print(iter(4)) # return an error\n",
    "\n",
    "## String\n",
    "print(iter('Hello'))\n",
    "\n",
    "## List\n",
    "print(iter([2,3,4]))\n",
    "\n",
    "## dictionary\n",
    "print(iter({\"key1\":1, \"key2\":2, \"key3\":3}))\n",
    "\n",
    "## tuple \n",
    "print(iter((2,3,4)))\n",
    "\n",
    "## set\n",
    "print(iter({1,2,3,4}))\n",
    "\n",
    "## strings, lists, dictionaries, tuples, and sets are iterable objects"
   ]
  },
  {
   "cell_type": "code",
   "execution_count": 15,
   "metadata": {},
   "outputs": [
    {
     "name": "stdout",
     "output_type": "stream",
     "text": [
      "1\n",
      "hi\n",
      "2\n",
      "hi\n",
      "3\n",
      "hi\n",
      "4\n",
      "hi\n",
      "5\n",
      "hi\n"
     ]
    }
   ],
   "source": [
    "## For loop statement (lists)\n",
    "\n",
    "my_list = [1,2,3,4,5] # define a list\n",
    "\n",
    "for i in my_list: # for <variable> in <iterable object>:\n",
    "    ## i takes the first element from my list, then the second,...etc\n",
    "    print(i) # <statements(s)>\n",
    "    print('hi')"
   ]
  },
  {
   "cell_type": "code",
   "execution_count": 16,
   "metadata": {},
   "outputs": [
    {
     "name": "stdout",
     "output_type": "stream",
     "text": [
      "my_list_sum = 1\n",
      "my_list_sum = 3\n",
      "my_list_sum = 6\n",
      "my_list_sum = 10\n",
      "my_list_sum = 15\n",
      "my_list_sum = 15\n"
     ]
    }
   ],
   "source": [
    "## Let's write a code that prints the sum of the list\n",
    "\n",
    "my_list = [1,2,3,4,5] # define a list\n",
    "my_list_sum = 0 # initialize the sum with value of 0\n",
    "for i in my_list: # for (variable you define) in (itertable object):\n",
    "    my_list_sum = my_list_sum + i\n",
    "    print('my_list_sum = {}'.format(my_list_sum))\n",
    "print('my_list_sum = {}'.format(my_list_sum))"
   ]
  },
  {
   "cell_type": "code",
   "execution_count": 17,
   "metadata": {},
   "outputs": [
    {
     "name": "stdout",
     "output_type": "stream",
     "text": [
      "1 is odd\n",
      "2 is even\n",
      "3 is odd\n",
      "4 is even\n",
      "5 is odd\n"
     ]
    }
   ],
   "source": [
    "## let's write a code that prints if the number is even or odd in the list\n",
    "\n",
    "my_list = [1,2,3,4,5] # define a list\n",
    "for i in my_list: # for (variable you define) in (itertable object):\n",
    "    if i%2 == 0: # check for even\n",
    "        print(i, \"is even\") \n",
    "    else: # else the number is odd\n",
    "        print(i, \"is odd\")"
   ]
  },
  {
   "cell_type": "code",
   "execution_count": 18,
   "metadata": {},
   "outputs": [
    {
     "name": "stdout",
     "output_type": "stream",
     "text": [
      "H\n",
      "e\n",
      "l\n",
      "l\n",
      "o\n",
      " \n",
      "W\n",
      "o\n",
      "r\n",
      "l\n",
      "d\n"
     ]
    }
   ],
   "source": [
    "## For loop statements (strings)\n",
    "my_string = \"Hello World\"\n",
    "for i in my_string:\n",
    "    print(i)"
   ]
  },
  {
   "cell_type": "code",
   "execution_count": 19,
   "metadata": {},
   "outputs": [
    {
     "name": "stdout",
     "output_type": "stream",
     "text": [
      "1\n",
      "1\n",
      "1\n",
      "1\n",
      "1\n",
      "1\n",
      "1\n",
      "1\n",
      "1\n",
      "1\n",
      "1\n"
     ]
    }
   ],
   "source": [
    "## If I don't intend to use the variable i in my cell block, I can repalce\n",
    "## i with _\n",
    "my_string = \"Hello World\"\n",
    "for _ in \"Hello World\":\n",
    "    print(1)"
   ]
  },
  {
   "cell_type": "code",
   "execution_count": 20,
   "metadata": {},
   "outputs": [
    {
     "name": "stdout",
     "output_type": "stream",
     "text": [
      "1\n",
      "2\n",
      "3\n",
      "4\n",
      "5\n"
     ]
    }
   ],
   "source": [
    "## For loop statements (tuples)\n",
    "my_tuple = (1,2,3,4,5)\n",
    "for i in my_tuple:\n",
    "    print(i)"
   ]
  },
  {
   "cell_type": "code",
   "execution_count": 21,
   "metadata": {},
   "outputs": [
    {
     "name": "stdout",
     "output_type": "stream",
     "text": [
      "(1, 2)\n",
      "(3, 4)\n",
      "(5, 6)\n",
      "(7, 8)\n"
     ]
    }
   ],
   "source": [
    "## list of tuples\n",
    "my_tuples_list = [(1,2),(3,4),(5,6),(7,8)] # List with 4 items, each item is \n",
    "## a tuple\n",
    "for i in my_tuples_list:\n",
    "    print(i)"
   ]
  },
  {
   "cell_type": "code",
   "execution_count": 22,
   "metadata": {},
   "outputs": [
    {
     "name": "stdout",
     "output_type": "stream",
     "text": [
      "1\n",
      "2\n",
      "3\n",
      "4\n",
      "5\n",
      "6\n",
      "7\n",
      "8\n"
     ]
    }
   ],
   "source": [
    "## tuples unpacking\n",
    "my_tuples_list = [(1,2),(3,4),(5,6),(7,8)]\n",
    "for (a,b) in my_tuples_list:\n",
    "    print(a)\n",
    "    print(b)"
   ]
  },
  {
   "cell_type": "code",
   "execution_count": 23,
   "metadata": {},
   "outputs": [
    {
     "name": "stdout",
     "output_type": "stream",
     "text": [
      "print the keys\n",
      "key1\n",
      "key2\n",
      "key3\n",
      "\n",
      "print the keys\n",
      "key1\n",
      "key2\n",
      "key3\n",
      "\n",
      "print the values\n",
      "1\n",
      "2\n",
      "3\n",
      "\n",
      "print the items\n",
      "('key1', 1)\n",
      "('key2', 2)\n",
      "('key3', 3)\n",
      "\n",
      "print the items with dictionary unpacking\n",
      "key1 has a value of 1\n",
      "key2 has a value of 2\n",
      "key3 has a value of 3\n"
     ]
    }
   ],
   "source": [
    "## For loop statements (dictionaries)\n",
    "my_dic = {'key1':1, 'key2':2, 'key3':3}\n",
    "\n",
    "## This will iterate in the dictionary's keys\n",
    "print(\"print the keys\")\n",
    "for i in my_dic:\n",
    "    print(i)\n",
    "print('')\n",
    "\n",
    "## This will iterate in the dictionary's keys too\n",
    "print(\"print the keys\")\n",
    "for i in my_dic.keys():\n",
    "    print(i)\n",
    "print('')\n",
    "\n",
    "## This will iterate in the dictionary's values\n",
    "print(\"print the values\")\n",
    "for i in my_dic.values():\n",
    "    print(i)\n",
    "print('')    \n",
    "\n",
    "## This will iterate in the dictionary's items (key,value) pair\n",
    "print(\"print the items\")  \n",
    "for i in my_dic.items():\n",
    "    print(i)\n",
    "print('')    \n",
    "\n",
    "## This will iterate in the dictionary's items (key,value) pair using unpacking\n",
    "print(\"print the items with dictionary unpacking\")  \n",
    "for (key,value) in my_dic.items():\n",
    "    print(\"{} has a value of {}\".format(key,value))\n",
    "    \n",
    "## Note dictionaries are unordered (not guaranteed to keep the same order \n",
    "## as you defined them)\n",
    "\n",
    "## for loop can be used for sets too"
   ]
  },
  {
   "cell_type": "code",
   "execution_count": 24,
   "metadata": {},
   "outputs": [
    {
     "name": "stdout",
     "output_type": "stream",
     "text": [
      "1 a\n",
      "1 b\n",
      "1 c\n",
      "2 a\n",
      "2 b\n",
      "2 c\n",
      "3 a\n",
      "3 b\n",
      "3 c\n"
     ]
    }
   ],
   "source": [
    "## Nested for loops (loop inside another loop)\n",
    "num = [1,2,3]\n",
    "s = ['a','b','c']\n",
    "for i in num:\n",
    "    for j in s:\n",
    "        print (i,j) "
   ]
  },
  {
   "cell_type": "code",
   "execution_count": 25,
   "metadata": {},
   "outputs": [],
   "source": [
    "## Example 2\n",
    "\n",
    "## Task 1: Write a program that counts the numbers of even integers, odd intgers\n",
    "## and floats in the list L = [2, 3, 1.3, 2.4, 2.8, 8.0, 4, 3, 2.800, 10]\n",
    "\n",
    "## Task 2: Write a program that does the same as Task 1 but only consider\n",
    "## unique numbers (don't count repeated numbers twice)\n",
    "\n",
    "## Task 3: Write a program that takes a list of strings and compute how many\n",
    "## times the letter e appears in each letter\n",
    "## string_list = ['integer', 'list', 'set', 'tuple', 'Eee']\n",
    "\n"
   ]
  },
  {
   "cell_type": "code",
   "execution_count": 26,
   "metadata": {},
   "outputs": [
    {
     "name": "stdout",
     "output_type": "stream",
     "text": [
      "number of even integers is 3\n",
      "number of odd integer is 2\n",
      "number of floats is 5\n",
      "\n",
      "number of even integers is 3\n",
      "number of odd integer is 1\n",
      "number of floats is 4\n",
      "\n",
      "number of e = 2\n",
      "number of e = 0\n",
      "number of e = 1\n",
      "number of e = 1\n",
      "number of e = 2\n"
     ]
    }
   ],
   "source": [
    "### Example 2 solution\n",
    "## Task 1\n",
    "L = [2, 3, 1.3, 2.4, 2.8, 8.0, 4, 3, 2.800, 10]\n",
    "even_integers_counter = 0\n",
    "odd_integers_counter = 0\n",
    "floats_counter = 0\n",
    "for i in L:\n",
    "    if type(i) == int and i%2 == 0:\n",
    "        even_integers_counter = even_integers_counter + 1\n",
    "    elif type(i) == int and i%2 != 0:\n",
    "        odd_integers_counter = odd_integers_counter + 1\n",
    "    elif type(i) == float: \n",
    "        floats_counter = floats_counter + 1\n",
    "\n",
    "print(\"number of even integers is\",even_integers_counter)\n",
    "print(\"number of odd integer is\",odd_integers_counter)\n",
    "print(\"number of floats is\",floats_counter)\n",
    "print('')\n",
    "\n",
    "## Task 2\n",
    "L = [2, 3, 1.3, 2.4, 2.8, 8.0, 4, 3, 2.800, 10]\n",
    "S = set(L) # change list to set to remove duplicate\n",
    "even_integers_counter = 0\n",
    "odd_integers_counter = 0\n",
    "floats_counter = 0\n",
    "for i in S:\n",
    "    if type(i) == int and i%2 == 0:\n",
    "        even_integers_counter = even_integers_counter + 1\n",
    "    elif type(i) == int and i%2 != 0:\n",
    "        odd_integers_counter = odd_integers_counter + 1\n",
    "    elif type(i) == float: \n",
    "        floats_counter = floats_counter + 1\n",
    "\n",
    "print(\"number of even integers is\",even_integers_counter)\n",
    "print(\"number of odd integer is\",odd_integers_counter)\n",
    "print(\"number of floats is\",floats_counter)\n",
    "print('')\n",
    "\n",
    "## Task 3\n",
    "string_list = ['integer', 'list', 'set', 'tuple', 'Eee']\n",
    "for l in string_list:\n",
    "    e_counter = 0\n",
    "    for s in l:\n",
    "        if s == 'e':\n",
    "            e_counter = e_counter + 1\n",
    "    print('number of e =', e_counter)"
   ]
  },
  {
   "cell_type": "markdown",
   "metadata": {},
   "source": [
    "# while loop statement (while)"
   ]
  },
  {
   "cell_type": "code",
   "execution_count": 27,
   "metadata": {},
   "outputs": [
    {
     "name": "stdout",
     "output_type": "stream",
     "text": [
      "my number is 0\n",
      "my number is 1\n",
      "my number is 2\n"
     ]
    }
   ],
   "source": [
    "## while loop statement\n",
    "number = 0 \n",
    "while number < 3:\n",
    "    print('my number is {}'.format(number))\n",
    "    number = number + 1\n",
    "    \n",
    "## If we remove the line number = number + 1, the condition will never be False.\n",
    "## The while loop will run forever, to stop it 'restart' your Kernel "
   ]
  },
  {
   "cell_type": "code",
   "execution_count": 28,
   "metadata": {},
   "outputs": [
    {
     "name": "stdout",
     "output_type": "stream",
     "text": [
      "my number is 0\n",
      "my number is 1\n",
      "my number is 2\n",
      "my number is not less than 3\n"
     ]
    }
   ],
   "source": [
    "## while loop statement with else\n",
    "number = 0 \n",
    "while number < 3:\n",
    "    print('my number is {}'.format(number))\n",
    "    number = number + 1\n",
    "else:\n",
    "    print('my number is not less than 3')"
   ]
  },
  {
   "cell_type": "code",
   "execution_count": 29,
   "metadata": {},
   "outputs": [],
   "source": [
    "## break, continue, pass can be used inside our loops (for and while)\n",
    "## break is used to break out of the current closest enclosing loop\n",
    "## continue is used to go to the top of the closest enclosing loop\n",
    "## pass does nothing at all"
   ]
  },
  {
   "cell_type": "code",
   "execution_count": 30,
   "metadata": {},
   "outputs": [
    {
     "name": "stdout",
     "output_type": "stream",
     "text": [
      "0\n",
      "1\n",
      "2\n",
      "3\n"
     ]
    }
   ],
   "source": [
    "## break\n",
    "## can be used to break out of the current closest enclosing loop \n",
    "\n",
    "## let's say we have the list = [0,1,2,3,4,5] but we only want to print the\n",
    "## number up to 4 (not including 4)\n",
    "my_list = [0,1,2,3,4,5]\n",
    "for i in my_list:\n",
    "    if i == 4:\n",
    "        break\n",
    "    print(i)\n",
    "    \n",
    "## when i is equal to 4, we break out of the for loop\n",
    "## break is mostly useful with while loop"
   ]
  },
  {
   "cell_type": "code",
   "execution_count": 31,
   "metadata": {},
   "outputs": [
    {
     "name": "stdout",
     "output_type": "stream",
     "text": [
      "my number is 0\n",
      "my number is 1\n",
      "my number is 2\n",
      "my number is 3\n"
     ]
    }
   ],
   "source": [
    "## break with while loop\n",
    "number = 0 \n",
    "while number < 10:\n",
    "    if number == 4:\n",
    "        break\n",
    "    print('my number is {}'.format(number))\n",
    "    number = number + 1"
   ]
  },
  {
   "cell_type": "code",
   "execution_count": 32,
   "metadata": {},
   "outputs": [
    {
     "name": "stdout",
     "output_type": "stream",
     "text": [
      "0\n",
      "1\n",
      "2\n",
      "4\n",
      "5\n",
      "6\n"
     ]
    }
   ],
   "source": [
    "## continue\n",
    "## can be used to go back to the top of the closest enclosing loop without\n",
    "## reaching to the end of the loop\n",
    "\n",
    "## let's say we want to print the number 0 to 5 without number 3\n",
    "my_list = [0,1,2,3,4,5,6]\n",
    "for i in my_list:\n",
    "    if i == 3:\n",
    "        continue\n",
    "    print(i)\n",
    "    \n",
    "## when i is equal to 3 the code does not reach the print(i) statement\n"
   ]
  },
  {
   "cell_type": "code",
   "execution_count": 33,
   "metadata": {},
   "outputs": [],
   "source": [
    "## pass\n",
    "## Can be used to run an empty loop without getting an error\n",
    "## Useful to create a loop then fill it later\n",
    "\n",
    "my_list = [0,1,2,3,4,5,6]\n",
    "# for i in my_list:\n",
    "    ## statement\n",
    "    \n",
    "for i in my_list:\n",
    "    pass"
   ]
  },
  {
   "cell_type": "code",
   "execution_count": 34,
   "metadata": {},
   "outputs": [],
   "source": [
    "## Example 3 \n",
    "\n",
    "## Task 1: write a program that compute the sum of these two series\n",
    "## a) sum(-1)^k from k = 0 to 99\n",
    "## b) sum(1/k) from k = 10 to 40\n",
    "\n",
    "## Task 2: Write a program that sums the values 1,2,3,4,...etc and stops\n",
    "## when the sum reaches a value of 100 or more. Print the sum and the last\n",
    "## number added before the sum reaches a value of 100 or more (use break)\n",
    "\n",
    "## Task 3: write a program that does the same as task 2 but only adds\n",
    "## the even numbers"
   ]
  },
  {
   "cell_type": "code",
   "execution_count": 35,
   "metadata": {},
   "outputs": [
    {
     "name": "stdout",
     "output_type": "stream",
     "text": [
      "the sum =  0\n",
      "\n",
      "the sum =  1.4495747849681218\n",
      "\n",
      "the sum is 105 and the last number added is 14\n",
      "\n",
      "the sum is 110 and the last number added is 20\n"
     ]
    }
   ],
   "source": [
    "### Example 3 solution\n",
    "## Task 1 (a)\n",
    "k = 0 \n",
    "S = 0\n",
    "while k <= 99:\n",
    "    S = S + (-1)**k\n",
    "    k = k + 1\n",
    "print(\"the sum = \", S)\n",
    "print('')\n",
    "\n",
    "## Task 1 (b)\n",
    "k = 10\n",
    "S = 0\n",
    "while k <= 40:\n",
    "    S = S + 1/k\n",
    "    k = k + 1\n",
    "print(\"the sum = \", S)\n",
    "print('')\n",
    "\n",
    "## Task 2\n",
    "k = 0\n",
    "S = 0 \n",
    "while True:\n",
    "    k = k + 1\n",
    "    S = S + k\n",
    "    if S >= 100:\n",
    "        break\n",
    "print(\"the sum is {} and the last number added is {}\".format(S,k))\n",
    "print('')\n",
    "\n",
    "## Task 3\n",
    "k = 0\n",
    "S = 0 \n",
    "while True:\n",
    "    k = k + 1\n",
    "    if k%2 == 0:\n",
    "        S = S + k\n",
    "    if S >= 100:\n",
    "        break\n",
    "print(\"the sum is {} and the last number added is {}\".format(S,k))"
   ]
  },
  {
   "cell_type": "markdown",
   "metadata": {},
   "source": [
    "# Useful built-in functions and operators"
   ]
  },
  {
   "cell_type": "code",
   "execution_count": 1,
   "metadata": {},
   "outputs": [
    {
     "name": "stdout",
     "output_type": "stream",
     "text": [
      "4\n",
      "[5, 6, 7]\n",
      "['a', 'b', 'c']\n"
     ]
    }
   ],
   "source": [
    "## len() function returns the number of items in a list\n",
    "my_list = [1,2,3,4]\n",
    "print(len(my_list))\n",
    "\n",
    "## list(iterable) function that returns a mutable sequence list of elements\n",
    "print(list((5,6,7))) ## returns a list from tuple (5,6,7)\n",
    "print(list('abc')) ## returns a list from a string 'abc'"
   ]
  },
  {
   "cell_type": "code",
   "execution_count": 37,
   "metadata": {},
   "outputs": [
    {
     "name": "stdout",
     "output_type": "stream",
     "text": [
      "range(0, 5) \n",
      "\n",
      "range(3, 10) \n",
      "\n",
      "range(1, 10, 2) \n",
      "\n",
      "<class 'range'> \n",
      "\n",
      "1\n",
      "3\n",
      "5\n",
      "7\n",
      "9\n",
      "\n",
      "1\n",
      "3\n",
      "5\n",
      "7\n",
      "9\n",
      "\n",
      "[1, 3, 5, 7, 9] \n",
      "\n",
      "<class 'list'> \n",
      "\n"
     ]
    }
   ],
   "source": [
    "## range() function\n",
    "\n",
    "## Built-in function range() can be used to returns an iterable that yeilds\n",
    "## a sequence of integers\n",
    "\n",
    "x = range(5) # defines a range from 0 to 5 (not including 5)\n",
    "print(x,'\\n')\n",
    "x = range(3,10) # defines a range from 3 to 10 (not including 10)\n",
    "print(x,'\\n')\n",
    "x = range(1,10,2) # defines a range from 1 to 10 (not including 10) with a \n",
    "## step of 2\n",
    "print(x,'\\n')\n",
    "\n",
    "print(type(x),'\\n') # range type\n",
    "\n",
    "# Print the elements of range(x)\n",
    "for i in x: \n",
    "    print(i)\n",
    "print('')\n",
    "\n",
    "for i in range(1,10,2): \n",
    "    print(i)\n",
    "print('')\n",
    "\n",
    "## We can convert range into list using\n",
    "x_list = list(x)\n",
    "print(x_list,'\\n')\n",
    "print(type(x_list),'\\n')"
   ]
  },
  {
   "cell_type": "code",
   "execution_count": 38,
   "metadata": {},
   "outputs": [
    {
     "name": "stdout",
     "output_type": "stream",
     "text": [
      "At index 0 the letter is a\n",
      "At index 1 the letter is b\n",
      "At index 2 the letter is c\n",
      "At index 3 the letter is e\n",
      "At index 4 the letter is f\n",
      "At index 5 the letter is g\n",
      "At index 6 the letter is h\n"
     ]
    }
   ],
   "source": [
    "## enumerate() function\n",
    "\n",
    "## Built-in function enumerate() allows to loop over something and have \n",
    "## an automatic counter\n",
    "\n",
    "## Let's show example where enumerate can be useful\n",
    "## without enumerate, we need an index_count variable\n",
    "\n",
    "my_string = 'abcefgh'\n",
    "index_count = 0 \n",
    "for letter in my_string:\n",
    "    print(\"At index {} the letter is {}\".format(index_count,letter))\n",
    "    ## or\n",
    "    #print(\"At index {} the letter is {}\".format(index_count,my_string[index_count]))\n",
    "    index_count = index_count + 1"
   ]
  },
  {
   "cell_type": "code",
   "execution_count": 39,
   "metadata": {},
   "outputs": [
    {
     "name": "stdout",
     "output_type": "stream",
     "text": [
      "(0, 'a')\n",
      "(1, 'b')\n",
      "(2, 'c')\n",
      "(3, 'e')\n",
      "(4, 'f')\n",
      "(5, 'g')\n",
      "(6, 'h')\n"
     ]
    }
   ],
   "source": [
    "## with enumerate, we don't need an index_count variable\n",
    "my_string = 'abcefgh'\n",
    "for letter in enumerate(my_string):\n",
    "    print(letter)\n",
    "\n",
    "## letter stores the index and letter as a tuple"
   ]
  },
  {
   "cell_type": "code",
   "execution_count": 40,
   "metadata": {},
   "outputs": [
    {
     "name": "stdout",
     "output_type": "stream",
     "text": [
      "At index 0 the letter is a\n",
      "At index 1 the letter is b\n",
      "At index 2 the letter is c\n",
      "At index 3 the letter is e\n",
      "At index 4 the letter is f\n",
      "At index 5 the letter is g\n",
      "At index 6 the letter is h\n"
     ]
    }
   ],
   "source": [
    "## with enumerate and using tuples unpacking\n",
    "my_string = 'abcefgh'\n",
    "for index,letter in enumerate(my_string):\n",
    "    print(\"At index {} the letter is {}\".format(index,letter))"
   ]
  },
  {
   "cell_type": "code",
   "execution_count": 41,
   "metadata": {},
   "outputs": [
    {
     "name": "stdout",
     "output_type": "stream",
     "text": [
      "15\n",
      "15\n",
      "6\n"
     ]
    }
   ],
   "source": [
    "## sum() function\n",
    "## gives the sum of an iterable object that contains numbers\n",
    "\n",
    "## Sum of list\n",
    "print(sum([1,2,3,4,5])) \n",
    "\n",
    "## Sum of tuple\n",
    "print(sum((1,2,3,4,5)))\n",
    "\n",
    "## Sum of dictionary values\n",
    "my_dic = {'k1' : 1, 'k2' : 2, 'k3' : 3}\n",
    "print(sum(my_dic.values()))"
   ]
  },
  {
   "cell_type": "code",
   "execution_count": 2,
   "metadata": {},
   "outputs": [
    {
     "name": "stdout",
     "output_type": "stream",
     "text": [
      "False\n",
      "True\n",
      "True\n",
      "False\n",
      "False\n",
      "True\n",
      "False\n",
      "True\n",
      "True\n"
     ]
    }
   ],
   "source": [
    "## in opreator \n",
    "\n",
    "## can be used to check if an item is in the iterable\n",
    "## We already used it in our for loop\n",
    "\n",
    "## in list \n",
    "print('a' in ['abc'])\n",
    "print(' ' in ['a','b',' '])\n",
    "print(2 in [1,2,3])\n",
    "print(2 in ['abc'])\n",
    "\n",
    "## in string\n",
    "print('C' in \"canada\")\n",
    "print('a' in \"canada\")\n",
    "print('2' in \"canada\")\n",
    "#print(2 in 'canada') # return errors\n",
    "\n",
    "## in dictionary\n",
    "my_dic = {'k1' : 1, 'k2' : 2}\n",
    "print('k1' in my_dic) # check if it is a key\n",
    "print(2 in my_dic.values()) # check if it is value"
   ]
  },
  {
   "cell_type": "code",
   "execution_count": 3,
   "metadata": {},
   "outputs": [
    {
     "name": "stdout",
     "output_type": "stream",
     "text": [
      "Minimum number in my_list is -3\n",
      "Maximum number in my_list is 120\n"
     ]
    }
   ],
   "source": [
    "## We learn from last lecture that we use sort and take the first element to \n",
    "## obtain the minimum or the last element to obtain the maximum \n",
    "\n",
    "## We can use min() or max() built-in functions \n",
    "my_list = [11, 2.9, 33, 4, 2.3, 23, -3, 0, 120]\n",
    "print('Minimum number in my_list is', min(my_list))\n",
    "print('Maximum number in my_list is', max(my_list))"
   ]
  },
  {
   "cell_type": "code",
   "execution_count": 4,
   "metadata": {},
   "outputs": [
    {
     "name": "stdout",
     "output_type": "stream",
     "text": [
      "Enter your name: Mahir\n"
     ]
    }
   ],
   "source": [
    "## Input() function\n",
    "\n",
    "## used to take input from a user and it is stored as a string\n",
    "\n",
    "name = input('Enter your name: ')"
   ]
  },
  {
   "cell_type": "code",
   "execution_count": 5,
   "metadata": {},
   "outputs": [
    {
     "name": "stdout",
     "output_type": "stream",
     "text": [
      "Hi Mahir\n",
      "<class 'str'>\n"
     ]
    }
   ],
   "source": [
    "print('Hi {}'.format(name))\n",
    "print(type(name)) "
   ]
  },
  {
   "cell_type": "code",
   "execution_count": 6,
   "metadata": {},
   "outputs": [
    {
     "name": "stdout",
     "output_type": "stream",
     "text": [
      "Your your favourite number: 3\n"
     ]
    }
   ],
   "source": [
    "num = input(\"Your your favourite number: \")"
   ]
  },
  {
   "cell_type": "code",
   "execution_count": 7,
   "metadata": {},
   "outputs": [
    {
     "name": "stdout",
     "output_type": "stream",
     "text": [
      "3\n",
      "<class 'str'>\n",
      "<class 'int'>\n"
     ]
    }
   ],
   "source": [
    "print(num)\n",
    "print(type(num)) # We passed integer, but it was saved as a string \n",
    "num = int(num)\n",
    "print(type(num))"
   ]
  },
  {
   "cell_type": "code",
   "execution_count": 8,
   "metadata": {},
   "outputs": [
    {
     "name": "stdout",
     "output_type": "stream",
     "text": [
      "Your your favourite number: 3\n"
     ]
    }
   ],
   "source": [
    "num = eval(input(\"Your your favourite number: \"))  # use eval to get the same \n",
    "## data type as the one you input"
   ]
  },
  {
   "cell_type": "code",
   "execution_count": 9,
   "metadata": {},
   "outputs": [
    {
     "name": "stdout",
     "output_type": "stream",
     "text": [
      "<class 'int'>\n"
     ]
    }
   ],
   "source": [
    "print(type(num))"
   ]
  },
  {
   "cell_type": "code",
   "execution_count": 50,
   "metadata": {},
   "outputs": [],
   "source": [
    "## Example 4: (I have wrote in text how the output of the solutions should look like)\n",
    "\n",
    "## Task 1: \n",
    "## Write a code that takes the list L = [1,3.23,4,2.1,'a','3.2',3,1,2,4.3,'c',5]\n",
    "## and store the elements in 4 new lists (one for odd numbers, one for even\n",
    "## numbers, one for float numbers, and one for strings) \n",
    "\n",
    "## HINTS:\n",
    "## Use one for loop, one if statement and three elif statements (don't use else)\n",
    "## Use append to enter elements into the empty list odd_umbers_list , even_numbers_list\n",
    "## floats_list strings_list\n",
    "\n",
    "## Task 2: \n",
    "## Write a code that sums the elements in each of the odd, even, and float \n",
    "## numbers lists obtained from task one and  determine the list with the\n",
    "## largest sum, smallest sum, and the one in the middle\n",
    "\n",
    "## HINT: (These hints help you do it in one way)\n",
    "## you might want to use sum() to get the sum of each list \n",
    "## Store them in a dictionary like this \n",
    "## t = {'odd_sum': odd_list_sum, 'even_sum' : even_list_sum, 'floats_sum': floats_list_sum}\n",
    "## where the values are just the value (number) of the sum\n",
    "## Use tuple unpacking in for loop to get the key and item "
   ]
  },
  {
   "cell_type": "code",
   "execution_count": null,
   "metadata": {},
   "outputs": [],
   "source": [
    "### Example 4 solution"
   ]
  },
  {
   "cell_type": "markdown",
   "metadata": {},
   "source": [
    "odd_numbers_list = [1, 3, 1, 5]\n",
    "\n",
    "even_numbers_list = [4, 2]\n",
    "\n",
    "floats_list = [3.23, 2.1, 4.3]\n",
    "\n",
    "strings_list = ['a', '3.2', 'c']\n",
    "\n",
    "the largest sum is odd_sum with a value of 10\n",
    "\n",
    "the smallest sum is even_sum with a value of 6\n",
    "\n",
    "the middle sum is floats_sum with a value of 9.629999999999999\n"
   ]
  },
  {
   "cell_type": "markdown",
   "metadata": {},
   "source": [
    "# List Comprehension (WE DIDN'T COVER IT)"
   ]
  },
  {
   "cell_type": "code",
   "execution_count": 52,
   "metadata": {},
   "outputs": [],
   "source": [
    "## List comprehensions provide a concise way to create lists\n",
    "\n",
    "## Starts with a [ ], to help you remember that the result is going to \n",
    "## be a list.\n",
    "\n",
    "## Everytime you find yourself needing to use a for loop to generate a list\n",
    "## from another iterable object, list comprehension can be used instead"
   ]
  },
  {
   "cell_type": "code",
   "execution_count": 53,
   "metadata": {},
   "outputs": [
    {
     "name": "stdout",
     "output_type": "stream",
     "text": [
      "original number list = [0, 1, 2, 3, 4, 5]\n",
      "squred number list = [0, 1, 4, 9, 16, 25]\n"
     ]
    }
   ],
   "source": [
    "## using loop to take a number_list and generate a new list with the items\n",
    "## being squared\n",
    "\n",
    "number_list = [0,1,2,3,4,5] # define my number_list\n",
    "squred_number_list = [] # define my list with squared items\n",
    "for i in number_list:\n",
    "    squred_number_list.append(i**2)\n",
    "print(\"original number list =\", number_list)\n",
    "print(\"squred number list =\", squred_number_list)"
   ]
  },
  {
   "cell_type": "code",
   "execution_count": 54,
   "metadata": {},
   "outputs": [
    {
     "name": "stdout",
     "output_type": "stream",
     "text": [
      "original number list = [0, 1, 2, 3, 4, 5]\n",
      "squred number list = [0, 1, 4, 9, 16, 25]\n"
     ]
    }
   ],
   "source": [
    "## using List Comprehension to take a number_list and generate a new list \n",
    "## with the items being squared\n",
    "\n",
    "number_list = [0,1,2,3,4,5] # define my number_list\n",
    "squred_number_list = [i**2 for i in number_list]\n",
    "print(\"original number list =\", number_list)\n",
    "print(\"squred number list =\", squred_number_list)"
   ]
  },
  {
   "cell_type": "code",
   "execution_count": 55,
   "metadata": {},
   "outputs": [
    {
     "name": "stdout",
     "output_type": "stream",
     "text": [
      "original number list = [0, 1, 2, 3, 4, 5]\n",
      "squred number list = [0, 1, 4, 9, 16, 25]\n"
     ]
    }
   ],
   "source": [
    "## use List Comprehension and range built-in function to make code shorter\n",
    "\n",
    "squred_number_list = [i**2 for i in range(0,6)] # another method\n",
    "print(\"original number list =\", number_list)\n",
    "print(\"squred number list =\", squred_number_list)"
   ]
  },
  {
   "cell_type": "code",
   "execution_count": 56,
   "metadata": {},
   "outputs": [
    {
     "name": "stdout",
     "output_type": "stream",
     "text": [
      "my list is ['h', 'e', 'o', ' ', 'w', 'o', 'r', 'd']\n"
     ]
    }
   ],
   "source": [
    "## using loop to take the string \"hello world\" and generate a list of all \n",
    "## characters except the letter 'l'\n",
    "\n",
    "my_string = \"hello world\"\n",
    "my_list = []\n",
    "for i in my_string:\n",
    "    if i != 'l': # if i is not already exist in my list execuate the statement\n",
    "        my_list.append(i) # append i into my list\n",
    "        \n",
    "print(\"my list is\", my_list)"
   ]
  },
  {
   "cell_type": "code",
   "execution_count": 57,
   "metadata": {},
   "outputs": [
    {
     "name": "stdout",
     "output_type": "stream",
     "text": [
      "my other list is ['h', 'e', 'o', ' ', 'w', 'o', 'r', 'd']\n"
     ]
    }
   ],
   "source": [
    "## using List Comprehension to take the string \"hello world\" and generate a\n",
    "## list of all characters except the letter 'l'\n",
    "my_string = \"hello world\"\n",
    "my_other_list = [i for i in my_string if (i != 'l')]\n",
    "print(\"my other list is\", my_other_list)"
   ]
  },
  {
   "cell_type": "code",
   "execution_count": 58,
   "metadata": {},
   "outputs": [],
   "source": [
    "## Homework (LOOK TWO CELLS DOWN:I have wrote in text how the output of the\n",
    "## solutions should look like)\n",
    "\n",
    "## Task 1: start from the string \"The programming language Python was \n",
    "## conceived in the late 1980s\" create a statement that will print out\n",
    "## words that start with 'p' or 'P'\n",
    "## HINT: You may want to use split(), for loop, if statement, \n",
    "## and the logical operator or to complete the task (in that order)\n",
    "\n",
    "## Task 2: print out all the words that have even number of characters as follow\n",
    "## word # is \"word\" and it is even (ie: word 3 is language and it has even number of characters)\n",
    "## word # is \"word\" and it is even (ie: word 4 is Python and it is even number of character)\n",
    "## HINT: You may want to use split(), for loop, if , len(), and % operator to complete the task\n",
    "\n",
    "## Task 3: use a for loop to create a list with the first character\n",
    "## from each word that is not p or P \n",
    "## HINT: You may want to define an empty list first, use split(), if statement\n",
    "## , the logical operator and, and append()\n",
    "\n",
    "## Task 4: Write a program that return the maximum integer from integers 1 \n",
    "## to 100 that is divisible by 7\n",
    "## HINT: You may want to use for loop, range() if statement, and % operator\n",
    "\n",
    "## Task 5: Using loop to take the string \"hello world\" and generate a list of all \n",
    "## unique characters (no repeated characters)\n",
    "## HINT: You may want to define an empty list first, if statement, and append()\n",
    "\n",
    "## Note: You might be able to do the task without using all the tools I stated\n",
    "## in this hints, but these hints should help you if you are not sure what to \n",
    "## do\n",
    "\n",
    "## GOOD LUCK (If you have any questions about the homework or today's\n",
    "## lecture, feel free to email me)\n"
   ]
  },
  {
   "cell_type": "code",
   "execution_count": 59,
   "metadata": {
    "scrolled": false
   },
   "outputs": [],
   "source": [
    "### Homework solution\n",
    "\n"
   ]
  },
  {
   "cell_type": "markdown",
   "metadata": {},
   "source": [
    "Solution should look like this\n",
    "\n",
    "Task 1 Solution\n",
    "\n",
    "programming\n",
    "\n",
    "Python\n",
    "\n",
    "Task 2 Solution\n",
    "\n",
    "word 3 is language and it has even number of characters\n",
    "\n",
    "word 4 is Python and it has even number of characters\n",
    "\n",
    "word 7 is in and it has even number of characters\n",
    "\n",
    "word 9 is late and it has even number of characters\n",
    "\n",
    "\n",
    "Task 3 Solution\n",
    "\n",
    "my_first_ch_list is: ['T', 'l', 'w', 'c', 'i', 't', 'l', '1']\n",
    "\n",
    "Task 4 Solution\n",
    "\n",
    "The maximum integer_list =  98\n",
    "\n",
    "Task 5 Solution\n",
    "\n",
    "my list is ['h', 'e', 'l', 'o', ' ', 'w', 'r', 'd']\n"
   ]
  }
 ],
 "metadata": {
  "kernelspec": {
   "display_name": "Python 3",
   "language": "python",
   "name": "python3"
  },
  "language_info": {
   "codemirror_mode": {
    "name": "ipython",
    "version": 3
   },
   "file_extension": ".py",
   "mimetype": "text/x-python",
   "name": "python",
   "nbconvert_exporter": "python",
   "pygments_lexer": "ipython3",
   "version": "3.7.3"
  }
 },
 "nbformat": 4,
 "nbformat_minor": 2
}
