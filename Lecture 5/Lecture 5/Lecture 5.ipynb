{
 "cells": [
  {
   "cell_type": "markdown",
   "metadata": {},
   "source": [
    "# Python External Libraries"
   ]
  },
  {
   "cell_type": "code",
   "execution_count": null,
   "metadata": {},
   "outputs": [],
   "source": [
    "## I will cover the most important libraries that will help you \n",
    "## in the AI/Machine Learning/Neural network course\n",
    "\n",
    "## Access to the cheat sheet in this link \n",
    "## https://www.datacamp.com/community/data-science-cheatsheets?page=3\n",
    "\n",
    "## We will cover \n",
    "## Numpy\n",
    "## Pandas\n",
    "## Matplotlib"
   ]
  },
  {
   "cell_type": "markdown",
   "metadata": {},
   "source": [
    "# Numpy library"
   ]
  },
  {
   "cell_type": "code",
   "execution_count": null,
   "metadata": {},
   "outputs": [],
   "source": [
    "## import the library numpy and use np as shortcut for it\n",
    "import numpy as np\n",
    "\n",
    "## Creating arrays\n",
    "a = np.array([1, 2, 3]) # 1D array\n",
    "print(a)\n",
    "print(type(a)) ## numpy. n dimensional array\n",
    "\n",
    "b = np.array([[1, 2, 3], [4, 5, 6]])\n",
    "print(b)\n",
    "\n",
    "\n"
   ]
  },
  {
   "cell_type": "code",
   "execution_count": null,
   "metadata": {},
   "outputs": [],
   "source": [
    "## list vs array \n",
    "my_list = [1,2,3]\n",
    "# print(my_list + 2) # gives error\n",
    "a = np.array([1, 2, 3])\n",
    "print(a+2)"
   ]
  },
  {
   "cell_type": "code",
   "execution_count": null,
   "metadata": {},
   "outputs": [],
   "source": [
    "## Initial placeholders\n",
    "\n",
    "## create an array of zeros\n",
    "print(np.zeros((3,4))) # create 2D array of zeros with 3 rows and 4 columns\n",
    "\n",
    "## create an array of ones\n",
    "print(np.ones((3,4))) # create 2D array of ones\n",
    "\n",
    "## create an array of evenly spaced values (start,end,step) us arange\n",
    "print(np.arange(10,25,5))\n",
    "\n",
    "## create an array of evenly spaced values (number of samples)\n",
    "print(np.linspace(0,2,9))\n",
    "\n",
    "## create a constant array\n",
    "print(np.full((3,4),1)) # create a 3 by 4 array with value of 1\n",
    "\n",
    "## create a n by n identity matrix with eye(n)\n",
    "print(np.eye(3))"
   ]
  },
  {
   "cell_type": "code",
   "execution_count": null,
   "metadata": {},
   "outputs": [],
   "source": [
    "## Input/Output\n",
    " \n",
    "## save an array to a file in Numpy .npy format\n",
    "a = np.array([1, 2, 3])\n",
    "np.save('my_array',a) \n",
    "\n",
    "## Save several arrays into a single file in uncompressed .npz format\n",
    "b = np.array([4, 5, 6])\n",
    "np.savez('my_multiple_array.npz', a = a, b = b)"
   ]
  },
  {
   "cell_type": "code",
   "execution_count": null,
   "metadata": {},
   "outputs": [],
   "source": [
    "## load .npy file with single array\n",
    "np.load('my_array.npy')"
   ]
  },
  {
   "cell_type": "code",
   "execution_count": null,
   "metadata": {},
   "outputs": [],
   "source": [
    "## load .npz \n",
    "d = np.load('my_multiple_array.npz')\n",
    "print(d['a'])\n",
    "print(d['b'])"
   ]
  },
  {
   "cell_type": "code",
   "execution_count": null,
   "metadata": {},
   "outputs": [],
   "source": [
    "## load data from a text file\n",
    "my_array = np.loadtxt(\"myarrayfile.txt\")\n",
    "print(my_array)\n",
    "print(my_array[0])\n",
    "\n",
    "## load data from a csv file \n",
    "my_array = np.genfromtxt(\"mycsvfile.csv\", delimiter = ',')\n",
    "print(my_array)"
   ]
  },
  {
   "cell_type": "code",
   "execution_count": null,
   "metadata": {},
   "outputs": [],
   "source": [
    "## Inspecting array\n",
    "## we can get the shape or dimension of the our array using shape attribute\n",
    "b = np.array([[1, 2, 3], [4, 5, 6]])\n",
    "print(b.shape) # (number of rows, number of columns)\n",
    "print(b.shape[0]) # number of rows\n",
    "print(b.shape[1]) # number of columns\n",
    "\n",
    "## len(array) length of array (used for 1D array mostly)\n",
    "print(len(b)) # number of rows\n",
    "print(len(b[1])) # number of columns\n",
    "\n",
    "## ndim is an attribute to find number dimensions in array \n",
    "print(b.ndim)"
   ]
  },
  {
   "cell_type": "code",
   "execution_count": null,
   "metadata": {},
   "outputs": [],
   "source": [
    "## Array Mathematics \n",
    "a = np.array([1,2,3])\n",
    "b = np.array([4,5,6])\n",
    "\n",
    "## Addition (add) /subtraction (subtract) \n",
    "## multiplication (multiply)  /division (divide) \n",
    "g1 = a+b\n",
    "g2 = np.add(a,b)\n",
    "print(g1)\n",
    "print(g2)\n",
    "\n",
    "g3 = a/b\n",
    "g4 = np.divide(a,b)\n",
    "print(g3)\n",
    "print(g4)\n",
    "\n",
    "## Exponentiation \n",
    "print(np.exp(a)) # e^(all elements) we call it elementwise operation\n",
    "\n",
    "## Dot product (array_1.dot(array_2))\n",
    "print(a.dot(b))"
   ]
  },
  {
   "cell_type": "code",
   "execution_count": null,
   "metadata": {},
   "outputs": [],
   "source": [
    "## Comparison\n",
    "a = np.array([1,2,3])\n",
    "b = np.array([4,5,6])\n",
    "print(a>b)\n",
    "\n",
    "print(a<2)"
   ]
  },
  {
   "cell_type": "code",
   "execution_count": null,
   "metadata": {},
   "outputs": [],
   "source": [
    "## Aggregate Functions\n",
    "b = np.array([[1, 2, 3], [4, 5, 6]])\n",
    "\n",
    "## array wise sum (sum all the elements in the array, over all axes)\n",
    "print(b.sum())\n",
    "\n",
    "## array wise sum along the rows\n",
    "print(b.sum(0))\n",
    "\n",
    "## array wise sum along the columns \n",
    "print(b.sum(1))\n",
    "\n",
    "## min, max, mean, median, sort.. all work the same way"
   ]
  },
  {
   "cell_type": "code",
   "execution_count": null,
   "metadata": {},
   "outputs": [],
   "source": [
    "b = np.array([[1, 2, 3], [4, 5, 6]])\n",
    "h=b.view()\n",
    "print(b)\n",
    "print(h)"
   ]
  },
  {
   "cell_type": "code",
   "execution_count": null,
   "metadata": {},
   "outputs": [],
   "source": [
    "## Access the elements of the array with indexing \n",
    "b = np.array([[1, 2, 3], [4, 5, 6]])\n",
    "print(b[0][2]) ## array[row][column]\n",
    "\n",
    "## Change the element of array \n",
    "b[0][0] = 10\n",
    "print(b)\n",
    "\n",
    "## Slicing\n",
    "b = np.array([[1, 2, 3], [4, 5, 6]])\n",
    "print(b[0:2,1]) # Take the first two rows and the second column\\\n",
    "\n",
    "## Boolean indexing (return 1D array of all elements that meet the condition)\n",
    "b = b[b<5]"
   ]
  },
  {
   "cell_type": "code",
   "execution_count": null,
   "metadata": {},
   "outputs": [],
   "source": [
    "## Array Manipulation \n",
    "b = np.array([[1, 2, 3], [4, 5, 6]])\n",
    "print(b)\n",
    "print(b.shape)\n",
    "\n",
    "## Transposing array\n",
    "b_T = np.transpose(b)\n",
    "print(b_T)\n",
    "print(b_T.shape)\n",
    "\n",
    "\n",
    "## Change array shape \n",
    "\n",
    "## Flatten the array (make it 1D) using ravel\n",
    "print(b.ravel())\n",
    "\n",
    "## reshape (keep the original array, just create a new one with the new shape)\n",
    "b = np.array([[1, 2, 3], [4, 5, 6]])\n",
    "c = b.reshape(3,2)\n",
    "print(b)\n",
    "print(c)\n",
    "\n",
    "## Adding/Removing elements \n",
    "\n",
    "## resize (change the original array shape)\n",
    "b = np.array([[1, 2, 3], [4, 5, 6]])\n",
    "c = b.resize(3,2)\n",
    "print(b)\n",
    "print(c)\n",
    "\n",
    "## append add items to the array\n",
    "b = np.array([[1, 2, 3], [4, 5, 6]])\n",
    "np.append(b,[7,8,9]) ## reshape it into 1D array\n",
    "\n",
    "\n",
    "## The append on a specific axis requires the shape of both arrays to be \n",
    "## the same \n",
    "\n",
    "## append add items to the array on axis 0 (rows)\n",
    "b = np.array([[1, 2, 3], [4, 5, 6]])\n",
    "c = b*2\n",
    "print(np.append(b,c,axis=0)) ## add the new arrays as rows\n",
    "\n",
    "## append add items to the array on axis 1 (columns)\n",
    "b = np.array([[1, 2, 3], [4, 5, 6]])\n",
    "c = b*2\n",
    "print(np.append(b,c,axis=1)) ## add the new arrays as columns"
   ]
  },
  {
   "cell_type": "code",
   "execution_count": null,
   "metadata": {},
   "outputs": [],
   "source": [
    "## Splitting array\n",
    "b = np.array([[1, 2, 3, 4], [5, 6, 7, 8], [9, 10, 11, 12]])\n",
    "\n",
    "## split array horizontally at specific index i (np.hsplit(array,index))\n",
    "## it has to split the array into two arrays with equal size\n",
    "l, r = np.hsplit(b,2)\n",
    "print(l)\n",
    "print(r)\n",
    "\n",
    "# u,l = np.vsplit(b,2) # gives error since the arrays don't split equally"
   ]
  },
  {
   "cell_type": "code",
   "execution_count": null,
   "metadata": {},
   "outputs": [],
   "source": [
    "## Broadcasting \n",
    "a = np.array([[1, 2, 3, 4]])\n",
    "b = np.array([[1, 2, 3, 4], [5, 6, 7, 8], [9, 10, 11, 12]])\n",
    "a+b"
   ]
  },
  {
   "cell_type": "markdown",
   "metadata": {},
   "source": [
    "# Pandas"
   ]
  },
  {
   "cell_type": "code",
   "execution_count": null,
   "metadata": {},
   "outputs": [],
   "source": [
    "## Pandas cheat sheet \n",
    "## https://github.com/pandas-dev/pandas/blob/master/doc/cheatsheet/Pandas_Cheat_Sheet.pdf"
   ]
  },
  {
   "cell_type": "code",
   "execution_count": null,
   "metadata": {},
   "outputs": [],
   "source": [
    "## Import pandas \n",
    "import pandas as pd\n",
    "import numpy as np"
   ]
  },
  {
   "cell_type": "code",
   "execution_count": null,
   "metadata": {},
   "outputs": [],
   "source": [
    "df = pd.DataFrame({\"a\":[4, 5, 6], \"b\": [7, 8, 9], \"c\": [10, 11, 12]})\n",
    "print(df)\n",
    "print('')\n",
    "df = pd.DataFrame({\"a\":[4, 5, 6], \"b\": [7, 8, 9], \"c\": [10, 11, 12]}, index = [1,2,3])\n",
    "print(df)\n",
    "print('')\n",
    "\n",
    "df = pd.DataFrame([[4,5,6],[7,8,9],[10,11,12]],\n",
    "                  index = [1, 2, 3], \n",
    "                  columns = ['a','b','c'])\n",
    "\n",
    "print(df)"
   ]
  },
  {
   "cell_type": "code",
   "execution_count": null,
   "metadata": {},
   "outputs": [],
   "source": [
    "## To read excel file use this \n",
    "#df = pd.read_excel(r'C:/Users/jalan/Desktop/my_data.xlsx')\n",
    "\n",
    "## To read CSV\n",
    "df = pd.read_csv('C:/Users/jalan/Desktop/adult.csv')\n",
    "#(df.head()) ## print the first 5 rows\n",
    "\n",
    "#df.tail(10) ## print the last 10 rows"
   ]
  },
  {
   "cell_type": "code",
   "execution_count": null,
   "metadata": {},
   "outputs": [],
   "source": [
    "## Get the data type of each column\n",
    "df.dtypes"
   ]
  },
  {
   "cell_type": "code",
   "execution_count": null,
   "metadata": {},
   "outputs": [],
   "source": [
    "## Get the index range\n",
    "df.index"
   ]
  },
  {
   "cell_type": "code",
   "execution_count": null,
   "metadata": {},
   "outputs": [],
   "source": [
    "## get the columns\n",
    "df.columns"
   ]
  },
  {
   "cell_type": "code",
   "execution_count": null,
   "metadata": {},
   "outputs": [],
   "source": [
    "df.values"
   ]
  },
  {
   "cell_type": "code",
   "execution_count": null,
   "metadata": {},
   "outputs": [],
   "source": [
    "## Statistical summary \n",
    "df.describe()"
   ]
  },
  {
   "cell_type": "code",
   "execution_count": null,
   "metadata": {},
   "outputs": [],
   "source": [
    "## sort by using any column \n",
    "df.sort_values('Age',ascending=True) # lowest to highest\n",
    "\n",
    "df.sort_values('Age',ascending=False) # highest to lowest\n",
    "\n"
   ]
  },
  {
   "cell_type": "code",
   "execution_count": null,
   "metadata": {},
   "outputs": [],
   "source": [
    "df.head()"
   ]
  },
  {
   "cell_type": "code",
   "execution_count": null,
   "metadata": {},
   "outputs": [],
   "source": [
    "## Slice\n",
    "\n",
    "# ## slice one column age\n",
    "# print(df['Age'])\n",
    "\n",
    "# ## slice two columns age and workclass\n",
    "# print(df[['Age','Workclass']])\n",
    "\n",
    "## Slice indexs\n",
    "# print(df.loc[2:4])\n",
    "\n",
    "# ## slice with specific columns\n",
    "#print(df.loc[2:4,['Age','Workclass']])\n",
    "\n",
    "# ## index with specific columns\n",
    "print(df.loc[4,['Age','Workclass']])\n",
    "\n",
    "\n"
   ]
  },
  {
   "cell_type": "code",
   "execution_count": null,
   "metadata": {},
   "outputs": [],
   "source": [
    "## filtering \n",
    "df[df.Age >40] ## return only result that pass this condition"
   ]
  },
  {
   "cell_type": "code",
   "execution_count": null,
   "metadata": {},
   "outputs": [],
   "source": [
    "## filtering \n",
    "\n",
    "df[df['Age']. isin([40])]"
   ]
  },
  {
   "cell_type": "code",
   "execution_count": null,
   "metadata": {},
   "outputs": [],
   "source": [
    "## Change elements \n",
    "print(df.loc[0,['Age']])\n",
    "\n",
    "df.loc[0,['Age']] = 60\n",
    "\n",
    "df.loc[0,['Age']]\n",
    "\n",
    "\n",
    "df['new column'] = df.Age+5\n",
    "df"
   ]
  },
  {
   "cell_type": "code",
   "execution_count": null,
   "metadata": {},
   "outputs": [],
   "source": [
    "## Rename columns\n",
    "\n",
    "df = df.rename(columns = {'Age':'age'} )\n",
    "df.head()\n",
    "\n",
    "## To change all the column names use\n",
    "#df.columns = ['name1','name2'..]"
   ]
  },
  {
   "cell_type": "code",
   "execution_count": null,
   "metadata": {},
   "outputs": [],
   "source": [
    "## for loop\n",
    "for index, row in df.iterrows():\n",
    "    print(index, row['Education'])"
   ]
  },
  {
   "cell_type": "code",
   "execution_count": null,
   "metadata": {},
   "outputs": [],
   "source": [
    "## export a dataframe to csv file at the same folder of jupyter notebook\n",
    "df.to_csv('name of the file.csv')\n",
    "\n",
    "## export a dataframe to csv file at different folder than your jupyter notebook\n",
    "#df.to_csv(r'Path where you want to store the exported excel file\\File Name.csv')\n",
    "\n",
    "## export a dataframe to xlsx file\n",
    "#df.to_excel(r'Path where you want to store the exported excel file\\File Name.xlsx')\n"
   ]
  },
  {
   "cell_type": "markdown",
   "metadata": {},
   "source": [
    "# Matplotlib"
   ]
  },
  {
   "cell_type": "code",
   "execution_count": null,
   "metadata": {},
   "outputs": [],
   "source": [
    "## Matplotlib is a python 2D plotting library "
   ]
  },
  {
   "cell_type": "code",
   "execution_count": null,
   "metadata": {},
   "outputs": [],
   "source": [
    "import matplotlib.pyplot as plt # Import pyplot module from the matplotlib package and use plt as shortcut to call it\n",
    "import numpy as np # Always import numpy when importing matplotlib"
   ]
  },
  {
   "cell_type": "code",
   "execution_count": null,
   "metadata": {},
   "outputs": [],
   "source": [
    "## Plot two lists\n",
    "plt.plot([0,1,2,3,4,5],[0,1,4,9,16,25])\n",
    "plt.axis([0,6,0,20])\n",
    "plt.xlabel('x') # x-axis label\n",
    "plt.ylabel('y') # y=axis label\n",
    "plt.title('y = x^2')"
   ]
  },
  {
   "cell_type": "code",
   "execution_count": null,
   "metadata": {},
   "outputs": [],
   "source": [
    "x = np.linspace(0,3,10) # define an array from 0 to 3 with 10 intervals \n",
    "y = np.cos(x)\n",
    "y2 = np.sin(x)\n",
    "y3 = np.exp(x)"
   ]
  },
  {
   "cell_type": "code",
   "execution_count": null,
   "metadata": {},
   "outputs": [],
   "source": [
    "print(x)"
   ]
  },
  {
   "cell_type": "code",
   "execution_count": null,
   "metadata": {},
   "outputs": [],
   "source": [
    "plt.scatter(x,y) ## plot x,y as scattered plot \n",
    "plt.xlabel('x')\n",
    "plt.ylabel('y')\n",
    "plt.title('cos(x)')\n",
    "plt.show() ## Display the plot (if you remove the line, the next plot will show with this one)\n",
    "\n",
    "plt.plot(x, y2, 'k--') ## plot x,y as connected plot \n",
    "plt.xlabel('x')\n",
    "plt.ylabel('y')\n",
    "plt.title('sin(x)')\n",
    "plt.show()\n",
    "\n",
    "plt.plot(x, y3, 'r')\n",
    "plt.xlabel('x')\n",
    "plt.ylabel('y')\n",
    "plt.title('e^(x)')\n",
    "\n"
   ]
  },
  {
   "cell_type": "code",
   "execution_count": null,
   "metadata": {},
   "outputs": [],
   "source": [
    "import random # import random package\n",
    "mean = 100\n",
    "SD = 15\n",
    "## np.random.randn(n) : generate an array with length n, filled with random floating-point samples from \n",
    "## the standard normal distribution.\n",
    "x = mean + SD * np.random.randn(10000)"
   ]
  },
  {
   "cell_type": "code",
   "execution_count": null,
   "metadata": {},
   "outputs": [],
   "source": [
    "## generate histogram plot\n",
    "plt.hist(x,40, facecolor = 'g')"
   ]
  },
  {
   "cell_type": "code",
   "execution_count": null,
   "metadata": {},
   "outputs": [],
   "source": [
    "## Create subplots\n",
    "x = np.linspace(0,3,10)\n",
    "y = np.cos(x)\n",
    "y2 = np.sin(x)\n",
    "y3 = np.exp(x)\n",
    "y4 = np.log2(x)\n",
    "fig, axs = plt.subplots(2, 2) ## define how many subplots (2 by 2) means 4 plots\n",
    "axs[0, 0].plot(x, y) \n",
    "axs[0, 0].set_title('cos(x)')\n",
    "axs[0, 1].plot(x, y, 'tab:orange')\n",
    "axs[0, 1].set_title('sin(x)')\n",
    "axs[1, 0].plot(x, -y, 'tab:green')\n",
    "axs[1, 0].set_title('exp(x)')\n",
    "axs[1, 1].plot(x, -y, 'tab:red')\n",
    "axs[1, 1].set_title('log2(x)')"
   ]
  },
  {
   "cell_type": "code",
   "execution_count": null,
   "metadata": {},
   "outputs": [],
   "source": [
    "## Use this link to pratice more \n",
    "## https://www.w3resource.com/python-exercises/"
   ]
  }
 ],
 "metadata": {
  "kernelspec": {
   "display_name": "Python 3",
   "language": "python",
   "name": "python3"
  },
  "language_info": {
   "codemirror_mode": {
    "name": "ipython",
    "version": 3
   },
   "file_extension": ".py",
   "mimetype": "text/x-python",
   "name": "python",
   "nbconvert_exporter": "python",
   "pygments_lexer": "ipython3",
   "version": "3.7.3"
  }
 },
 "nbformat": 4,
 "nbformat_minor": 2
}
