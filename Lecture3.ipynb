{
 "cells": [
  {
   "cell_type": "markdown",
   "metadata": {},
   "source": [
    "# Lecture 3"
   ]
  },
  {
   "cell_type": "markdown",
   "metadata": {},
   "source": [
    "# Methods and Functions"
   ]
  },
  {
   "cell_type": "code",
   "execution_count": 1,
   "metadata": {},
   "outputs": [],
   "source": [
    "## Python methods are called on an object (such us list, string...etc) so it\n",
    "## can access the data within the object and may alter an object's state\n",
    "\n",
    "## Python functions are block of codes used to carry out a specific task and is\n",
    "## called without any object. Also, python function doesn't alter the object's\n",
    "## state but only operate on it and then return a value or print something\n",
    "\n",
    "## In Short, a method is a function which belongs to an object."
   ]
  },
  {
   "cell_type": "markdown",
   "metadata": {},
   "source": [
    "# Python built-in methods"
   ]
  },
  {
   "cell_type": "code",
   "execution_count": 2,
   "metadata": {},
   "outputs": [],
   "source": [
    "## Methods for list \n",
    "my_list = [1,2,3,4]\n",
    "\n",
    "## To see all available methods for an object in Jupyter notebook \n",
    "## type: object_name. \n",
    "## press: tab\n",
    "\n",
    "## To get help on a specific method for an object in Jupyter notebook\n",
    "## type: object_name.method\n",
    "## press: shift+tab\n",
    "\n",
    "## append(x) method used to add an item x to the end of the list\n",
    "my_list.append(5) ## append item\n",
    "my_list.append([4,5]) ## append a list \n",
    "print(my_list)\n",
    "\n",
    "## extend(iterable) method allows to join two lists together \n",
    "## iterable include all sequence types (list, str, and tuples) and some\n",
    "## non-sequence types like dict\n",
    "my_list = [1,2,3,4]\n",
    "my_list.extend([5,6,7]) ## extend original list with a list\n",
    "my_list.extend((5,6,7)) ## extend original list with a tuple\n",
    "my_list.extend('abc') ## extend original list with a string\n",
    "print(my_list)\n",
    "\n",
    "## insert(i,x) method used to insert an item x at a given index i\n",
    "my_list = [1,2,3,4]\n",
    "my_list.insert(2,2.5) ## input item 2.5 at index 2\n",
    "print(my_list)\n",
    "\n",
    "## remove(x) method that removes the first item from the list with the value x\n",
    "## Returns an error if there is no such item\n",
    "my_list = [1,2,3,4]\n",
    "my_list.remove(2)\n",
    "print(my_list)\n",
    "\n",
    "## pop(i) method used to remove an item for list at the index position i\n",
    "## and returns it\n",
    "## (defult index -1)\n",
    "my_list = [1,2,3,4]\n",
    "my_list.pop() # remove the last object in the list \n",
    "my_list.pop(0) # remove the first object in the list\n",
    "print(my_list)\n",
    "\n",
    "## clear() method used to remove all items from the list\n",
    "my_list = [1,2,3,4]\n",
    "my_list.clear()\n",
    "print(my_list)\n",
    "\n",
    "## count(x) returns the number of times x appears in the list \n",
    "my_list = [1,2,1,3,2,2,3,4]\n",
    "print(my_list.count(2))\n",
    "\n",
    "## sort(key = None, reverse = False) sort the items of the list in-place\n",
    "## argument key can be used to extract a comparison key from each list element\n",
    "## argument reverse takes flip the sort operation when set to True\n",
    "\n",
    "my_list = [2,1,5,3,4]\n",
    "my_list.sort() # Sort from smallest to largest\n",
    "print(my_list)\n",
    "\n",
    "my_list = [2,1,5,3,4]\n",
    "my_list.sort(reverse = True) # Flip the sort to be from largest to smalles\n",
    "print(my_list)\n",
    "\n",
    "my_list = [\"lion\", \"elephant\", \"bee\", \"tiger\"]\n",
    "my_list.sort()\n",
    "print(my_list)\n",
    "\n",
    "my_list = [\"lion\", \"elephant\", \"bee\", \"tiger\"]\n",
    "my_list.sort(key=len) # Sort based on the length (smallest to largest)\n",
    "\n",
    "## reverse() method used to reverse the elements of the list in-place\n",
    "my_list = [1,2,3,4]\n",
    "my_list.reverse()\n",
    "print(my_list)"
   ]
  },
  {
   "cell_type": "markdown",
   "metadata": {},
   "source": [
    "# Functions"
   ]
  },
  {
   "cell_type": "code",
   "execution_count": 3,
   "metadata": {},
   "outputs": [],
   "source": [
    "## Functions allow to create blocks of code that can be executed multiple times\n",
    "## without needing to constantly rewrite the entire block of code\n",
    "\n",
    "## Functions typically use the return keyword to send back the result of the\n",
    "## function, instead of just printing it out.\n",
    "\n",
    "## Return keyward allows to assign the output of the function to a new \n",
    "## variable"
   ]
  },
  {
   "cell_type": "code",
   "execution_count": 4,
   "metadata": {},
   "outputs": [],
   "source": [
    "## Define a function\n",
    "def function_name():\n",
    "    print(\"hello_world\")"
   ]
  },
  {
   "cell_type": "code",
   "execution_count": 5,
   "metadata": {},
   "outputs": [
    {
     "name": "stdout",
     "output_type": "stream",
     "text": [
      "hello_world\n"
     ]
    }
   ],
   "source": [
    "## Call a function\n",
    "function_name()"
   ]
  },
  {
   "cell_type": "code",
   "execution_count": 6,
   "metadata": {},
   "outputs": [],
   "source": [
    "## We can add arguments to a function (inputs)\n",
    "def function_name1(name):\n",
    "    print(\"Hello\", name)"
   ]
  },
  {
   "cell_type": "code",
   "execution_count": 7,
   "metadata": {},
   "outputs": [
    {
     "name": "stdout",
     "output_type": "stream",
     "text": [
      "Hello Mike\n"
     ]
    }
   ],
   "source": [
    "function_name1('Mike')"
   ]
  },
  {
   "cell_type": "code",
   "execution_count": 8,
   "metadata": {},
   "outputs": [],
   "source": [
    "#function_name1() # gives an error because we didn't pass any argument \n",
    "## which the function expects"
   ]
  },
  {
   "cell_type": "code",
   "execution_count": 9,
   "metadata": {},
   "outputs": [],
   "source": [
    "## We can add default argument to avoid that error if we don't pass an argument\n",
    "def function_name2(name='Mike'):\n",
    "    print(\"Hello\", name)"
   ]
  },
  {
   "cell_type": "code",
   "execution_count": 10,
   "metadata": {},
   "outputs": [
    {
     "name": "stdout",
     "output_type": "stream",
     "text": [
      "Hello Mike\n"
     ]
    }
   ],
   "source": [
    "function_name2()"
   ]
  },
  {
   "cell_type": "code",
   "execution_count": 11,
   "metadata": {},
   "outputs": [
    {
     "name": "stdout",
     "output_type": "stream",
     "text": [
      "Hello Sam\n"
     ]
    }
   ],
   "source": [
    "function_name2('Sam') # the default is used only if we don't pass an argument\n",
    "\n",
    "## Many built-in function in Python use default argument"
   ]
  },
  {
   "cell_type": "code",
   "execution_count": 12,
   "metadata": {},
   "outputs": [],
   "source": [
    "## In general, we tend to use the results obtained from our function in \n",
    "## other places in our program and this can be done using return keyward\n",
    "def function_name3(name='Mike'):\n",
    "    return (\"Hello \" + name) # this line has to be modified (change , with +)"
   ]
  },
  {
   "cell_type": "code",
   "execution_count": 13,
   "metadata": {},
   "outputs": [
    {
     "name": "stdout",
     "output_type": "stream",
     "text": [
      "Hello Sam\n"
     ]
    }
   ],
   "source": [
    "result = function_name3('Sam')\n",
    "print(result)"
   ]
  },
  {
   "cell_type": "code",
   "execution_count": 14,
   "metadata": {},
   "outputs": [],
   "source": [
    "## let's write a function that takes two arguments (numbers) and return the \n",
    "## the result of multiplying of the two numbers\n",
    "def multiplication(a,b):\n",
    "    return a*b"
   ]
  },
  {
   "cell_type": "code",
   "execution_count": 15,
   "metadata": {},
   "outputs": [
    {
     "name": "stdout",
     "output_type": "stream",
     "text": [
      "12\n"
     ]
    }
   ],
   "source": [
    "result = multiplication(3,4)\n",
    "print(result)"
   ]
  },
  {
   "cell_type": "code",
   "execution_count": 16,
   "metadata": {},
   "outputs": [],
   "source": [
    "## Let's write a function that check if a specific number is in my list \n",
    "def number_is_in_my_list(my_number, my_list): # my function takes two arguments\n",
    "    ## the number and the list\n",
    "    if my_number in my_list: # my_number in my_list already returns True\n",
    "        return True\n",
    "    else:\n",
    "        return False"
   ]
  },
  {
   "cell_type": "code",
   "execution_count": 17,
   "metadata": {},
   "outputs": [
    {
     "name": "stdout",
     "output_type": "stream",
     "text": [
      "True\n",
      "True\n"
     ]
    }
   ],
   "source": [
    "lis = [3,4,5,2,4,9,3,5.3,3.2,8.0]\n",
    "num = 4\n",
    "print(number_is_in_my_list(num,lis))\n",
    "\n",
    "lis = [3,4,5,2,4,9,3,5.3,3.2,8.0]\n",
    "num = 8\n",
    "print(number_is_in_my_list(num,lis))"
   ]
  },
  {
   "cell_type": "code",
   "execution_count": 18,
   "metadata": {},
   "outputs": [],
   "source": [
    "## Improve my function \n",
    "def number_is_in_my_list1(my_number, my_list): # my function takes two arguments\n",
    "    ## the number and the list\n",
    "    return my_number in my_list # my_number in my_list already returns True"
   ]
  },
  {
   "cell_type": "code",
   "execution_count": 19,
   "metadata": {},
   "outputs": [
    {
     "name": "stdout",
     "output_type": "stream",
     "text": [
      "True\n",
      "False\n"
     ]
    }
   ],
   "source": [
    "lis = [3,4,5,2,4,9,3,5.3,3.2,8.0]\n",
    "num = 4\n",
    "print(number_is_in_my_list(num,lis))\n",
    "\n",
    "lis = [3,4,5,2,4,9,3,5.3,3.2,8.0]\n",
    "num = 1\n",
    "print(number_is_in_my_list(num,lis))"
   ]
  },
  {
   "cell_type": "code",
   "execution_count": 20,
   "metadata": {},
   "outputs": [
    {
     "name": "stdout",
     "output_type": "stream",
     "text": [
      "9\n"
     ]
    }
   ],
   "source": [
    "## *arg (stand for arguments) \n",
    "## *arg allows to define a function without that takes any number of arguments\n",
    "## *kwarg (stand for keyword arguments) works similar to *arg but it is for \n",
    "## dictionary data\n",
    "\n",
    "## Let's say we want to define a function that takes the sum of all the\n",
    "## arguments we pass\n",
    "\n",
    "## Define the function\n",
    "def my_sum_func(a,b,c):\n",
    "    return sum([a,b,c]) ## convert the numbers into list and sum them\n",
    "\n",
    "## Call the function\n",
    "print(my_sum_func(3,2,4))\n",
    "# print(my_sum_func(1))\n",
    "# print(my_sum_func(2,3,10,23,12,12,23))\n",
    "\n",
    "## I need to modify my function every time I use different number of arguments"
   ]
  },
  {
   "cell_type": "code",
   "execution_count": 21,
   "metadata": {},
   "outputs": [
    {
     "name": "stdout",
     "output_type": "stream",
     "text": [
      "9\n",
      "1\n",
      "85\n",
      "(3, 2, 4)\n"
     ]
    }
   ],
   "source": [
    "## We can solve this issue by using *args\n",
    "\n",
    "## Define the function\n",
    "def my_sum_func(*args):\n",
    "    return sum(args)\n",
    "\n",
    "## Call the function\n",
    "print(my_sum_func(3,2,4))\n",
    "print(my_sum_func(1))\n",
    "print(my_sum_func(2,3,10,23,12,12,23))\n",
    "\n",
    "## we can use any word other than args but people normally use args\n",
    "\n",
    "\n",
    "## args is a tuple (let's show that)\n",
    "\n",
    "## Define the function\n",
    "def type_of_arg(*args):\n",
    "    print(args)\n",
    "\n",
    "type_of_arg(3,2,4)"
   ]
  },
  {
   "cell_type": "code",
   "execution_count": 22,
   "metadata": {},
   "outputs": [],
   "source": [
    "## Example 1\n",
    "\n",
    "## Task 1:\n",
    "## a) Define a function that takes a list and return the maximum number\n",
    "## in a list.  \n",
    "## b) use built-in function to get the maximum number in a list\n",
    "\n",
    "## Task 2: \n",
    "## a) Write a function that sums all the numbers in a list \n",
    "## b) use built in function to get the sum of all the numbers in a list\n",
    "\n",
    "## Task 3: Write a function that take a non negative number as an argument and \n",
    "## return the factorial of the number\n",
    "\n",
    "## Task 4: Define a function that takes an arbitrary number of arguments, \n",
    "## and returns a list containing only those arguments that are even\n",
    "\n",
    "## Task 5: Define a function that takes in a string, and returns a matching \n",
    "## string where every even index letter (including index 0) is lowercase,\n",
    "## and every odd index letter is uppercase\n",
    "\n",
    "## Task 6: Define a function that takes a list of numbers and return True if the\n",
    "## list has two similar numbers adjacent to each other, otherwise return False"
   ]
  },
  {
   "cell_type": "code",
   "execution_count": 23,
   "metadata": {},
   "outputs": [
    {
     "name": "stdout",
     "output_type": "stream",
     "text": [
      "12\n",
      "12\n",
      "10\n",
      "10\n",
      "6\n",
      "[2, 4]\n",
      "OrAnGe\n",
      "False\n",
      "True\n"
     ]
    }
   ],
   "source": []
  },
  {
   "cell_type": "markdown",
   "metadata": {},
   "source": [
    "# Nested functions"
   ]
  },
  {
   "cell_type": "code",
   "execution_count": 24,
   "metadata": {},
   "outputs": [],
   "source": [
    "## Nested functions (similar to nested loops) is a function defined inside \n",
    "## another function.\n",
    "## The inner function is normally called nested function.\n",
    "\n",
    "## Let's define a nested function\n",
    "\n",
    "def outer_function(): # define the outer function\n",
    "    print (\"Result of outer function\") \n",
    "    def inner_function(): # define the iner function\n",
    "        print (\"Result of inner function\")"
   ]
  },
  {
   "cell_type": "code",
   "execution_count": 25,
   "metadata": {},
   "outputs": [
    {
     "name": "stdout",
     "output_type": "stream",
     "text": [
      "Result of outer function\n"
     ]
    }
   ],
   "source": [
    "outer_function() ## This will only execute the outer_function since we didn't\n",
    "## call the inner function \n",
    "\n",
    "#inner_function()  ## Returns an error"
   ]
  },
  {
   "cell_type": "code",
   "execution_count": 26,
   "metadata": {},
   "outputs": [],
   "source": [
    "## If We want to call the inner function, I need to call it when I define \n",
    "## the outer function \n",
    "\n",
    "def outer_function(): # define the outer function\n",
    "    print (\"Result of outer function\") \n",
    "    def inner_function(): # define the iner function\n",
    "        print (\"Result of inner function\")\n",
    "    inner_function() # call the inner function"
   ]
  },
  {
   "cell_type": "code",
   "execution_count": 27,
   "metadata": {},
   "outputs": [
    {
     "name": "stdout",
     "output_type": "stream",
     "text": [
      "Result of outer function\n",
      "Result of inner function\n"
     ]
    }
   ],
   "source": [
    "outer_function() # call the outer function"
   ]
  },
  {
   "cell_type": "markdown",
   "metadata": {},
   "source": [
    "# Python names, namespaces, and scope \n",
    "# LEGB rule"
   ]
  },
  {
   "cell_type": "code",
   "execution_count": 28,
   "metadata": {},
   "outputs": [
    {
     "name": "stdout",
     "output_type": "stream",
     "text": [
      "num inside function = 100\n",
      "num outside function = 50\n"
     ]
    }
   ],
   "source": [
    "## Names and Namespaces\n",
    "\n",
    "num = 50 # name num is assigned to object 50 in the global (module) namespace\n",
    "\n",
    "def print_number():\n",
    "    num = 100 # name num is assigned to object 100 in the local (function) \n",
    "    ## namespace\n",
    "    print(\"num inside function =\", num)\n",
    "\n",
    "print_number() \n",
    "print(\"num outside function =\", num)"
   ]
  },
  {
   "cell_type": "code",
   "execution_count": 29,
   "metadata": {},
   "outputs": [
    {
     "name": "stdout",
     "output_type": "stream",
     "text": [
      "my_num = 100\n"
     ]
    }
   ],
   "source": [
    "## Scope is a code region from which a particular object is accessible\n",
    "\n",
    "def print_number():\n",
    "    my_num = 100 # name my_num is assigned to object 100 in the local namespace\n",
    "    print(\"my_num =\", my_num)\n",
    "\n",
    "print_number()\n",
    "#print(\"my_num =\", my_num)  # returns error since my_num name is defined inside\n",
    "## the local (function) space of print_number and not in the global space\n",
    "\n",
    "## Since I am trying to return my_num in the global scope, Python will search \n",
    "## for my_num in the global space if it can't find it it will search for my_num\n",
    "## in the built-in space\n",
    "\n",
    "## We cannot access any particular object from anywhere from the code"
   ]
  },
  {
   "cell_type": "code",
   "execution_count": 30,
   "metadata": {},
   "outputs": [
    {
     "name": "stdout",
     "output_type": "stream",
     "text": [
      "my_num = 100\n",
      "my_num = 100\n"
     ]
    }
   ],
   "source": [
    "## Modify the code to not get the error using return\n",
    "## Return allows to access the name in the global space\n",
    "\n",
    "def print_number():\n",
    "    my_num = 100 # name my_num is assigned to object 100 in the local namespace\n",
    "    print(\"my_num =\", my_num)\n",
    "    return my_num\n",
    "\n",
    "a = print_number()\n",
    "print(\"my_num =\", a)"
   ]
  },
  {
   "cell_type": "code",
   "execution_count": 31,
   "metadata": {},
   "outputs": [
    {
     "name": "stdout",
     "output_type": "stream",
     "text": [
      "global num = 10\n",
      "outer_function_num = 50\n",
      "inner_function_num = 100\n"
     ]
    }
   ],
   "source": [
    "## Scope and LEGB Rule (example 1)\n",
    "\n",
    "num = 10 # global\n",
    "\n",
    "def outer_function(): # define the outer function (enclosing function)\n",
    "    num = 50 # enclosing\n",
    "    print (\"outer_function_num =\", num) \n",
    "    \n",
    "    def inner_function(): # define the iner function (nested/local function)\n",
    "        num = 100 # local\n",
    "        print (\"inner_function_num =\", num) \n",
    "        \n",
    "    inner_function()\n",
    "        \n",
    "print(\"global num =\", num)\n",
    "outer_function()"
   ]
  },
  {
   "cell_type": "code",
   "execution_count": 32,
   "metadata": {},
   "outputs": [
    {
     "name": "stdout",
     "output_type": "stream",
     "text": [
      "num inside function = 100\n",
      "num outside function = 100\n"
     ]
    }
   ],
   "source": [
    "## global variables can be used to change global namespace inside local scope\n",
    "\n",
    "num = 50 # name num is assigned to object 50 in the global (module) namespace\n",
    "\n",
    "def print_number():\n",
    "    global num # grab x from the global namespace\n",
    "    num = 100 # name num is assigned to object 100 in the local (function) \n",
    "    ## namespace\n",
    "    print(\"num inside function =\", num)\n",
    "\n",
    "print_number() \n",
    "print(\"num outside function =\", num)"
   ]
  },
  {
   "cell_type": "markdown",
   "metadata": {},
   "source": [
    "# Synatx Errors and Exception"
   ]
  },
  {
   "cell_type": "code",
   "execution_count": 35,
   "metadata": {},
   "outputs": [],
   "source": [
    "## Syntax errors \n",
    "\n",
    "## leaving out keyword\n",
    "## Example : leaving out the keyword def when defining a function \n",
    "# my_function(x,y):\n",
    "#     return x + y\n",
    "\n",
    "\n",
    "## Putting a keyword in the wrong place\n",
    "## Example: put the keword else in the wrong place\n",
    "# else:\n",
    "#     print('Hi!')\n",
    "\n",
    "\n",
    "## Leaving out a symbol, such as colon, comma or brackets\n",
    "## Example : leaving out a comma\n",
    "# a = 3\n",
    "# print(\" a =\" a)\n",
    "\n",
    "\n",
    "## Incorrect indentation (IndentationError is a type of syntax error)\n",
    "# for i in range(4):\n",
    "# print(i)\n",
    "\n",
    "\n",
    "## Empty block (Solved by adding pass inside the block)\n",
    "# def my_function(x,y): # EOF stands for End Of File"
   ]
  },
  {
   "cell_type": "code",
   "execution_count": 36,
   "metadata": {},
   "outputs": [],
   "source": [
    "## Exceptions\n",
    "\n",
    "## Division by zero (ZeroDivisionError)\n",
    "# print(10/0)\n",
    "\n",
    "\n",
    "## Performing an operation on incompatible types (TypeError)\n",
    "## Adding a string to an integer\n",
    "# '2' + 2\n",
    "\n",
    "\n",
    "## Changing elements in a string\n",
    "# letter = 'a'\n",
    "# letter[0] = 'b'\n",
    "\n",
    "\n",
    "## Using and identifier which has not been defined (NameError)\n",
    "## Identifier is a name used to identify a variable, function, class, module..\n",
    "# area_of_sphere = pi*4**2\n",
    "\n",
    "\n",
    "## Accessing a list element, dictionary value or object attributes which\n",
    "## doesn’t exist \n",
    "## Accessing a list element that doesn't exist (IndexError)\n",
    "# mylist = [1,2,3]\n",
    "# mylist[5]\n",
    "\n",
    "## Accessing a dictionary value with a key that doesn't exist (KeyError)\n",
    "# mydict = {'zero':0, 'one':1, 'two': 2}\n",
    "# mydict['five']\n",
    "\n",
    "\n",
    "## Trying to call a function which is not defined (NameError)\n",
    "# my_func()"
   ]
  },
  {
   "cell_type": "markdown",
   "metadata": {},
   "source": [
    "# Handling Exceptions"
   ]
  },
  {
   "cell_type": "code",
   "execution_count": 37,
   "metadata": {},
   "outputs": [],
   "source": [
    "## let's write a function take two numbers as arguments and print the sum \n",
    "## of these two numbers \n",
    "\n",
    "def add(a,b): # define function with two arguments\n",
    "    print(\"THE ADDITION OF YOUR TWO NUMBER IS\", a + b)"
   ]
  },
  {
   "cell_type": "code",
   "execution_count": 38,
   "metadata": {},
   "outputs": [
    {
     "name": "stdout",
     "output_type": "stream",
     "text": [
      "Enter your first number: 3\n",
      "Enter your second number: 2\n",
      "THE ADDITION OF YOUR TWO NUMBER IS 32\n"
     ]
    }
   ],
   "source": [
    "num1 = input(\"Enter your first number: \") # ask the user to input a number\n",
    "num2 = input(\"Enter your second number: \")\n",
    "## what you think the answer will be ? \n",
    "add(num1,num2)\n",
    "\n",
    "## remember your input is stored in num1 and num2 as string \n",
    "## (string concatenation)"
   ]
  },
  {
   "cell_type": "code",
   "execution_count": 39,
   "metadata": {},
   "outputs": [
    {
     "name": "stdout",
     "output_type": "stream",
     "text": [
      "Enter your first number: 3\n",
      "Enter your second number: 2\n",
      "THE ADDITION OF YOUR TWO NUMBER IS 5.0\n"
     ]
    }
   ],
   "source": [
    "## let's try to fix the above \n",
    "num1 = float(input(\"Enter your first number: \")) # ask the user to input a \n",
    "# number and change it to a float\n",
    "num2 = float(input(\"Enter your second number: \")) \n",
    "## what you think the answer will be ? \n",
    "add(num1,num2)\n",
    "\n",
    "## But we don't have a control over what the user input \n",
    "## User might input a letters which gives ValueError, since string\n",
    "## can't be converted to float\n",
    "\n",
    "## How to handle this exceptions"
   ]
  },
  {
   "cell_type": "code",
   "execution_count": 40,
   "metadata": {},
   "outputs": [
    {
     "name": "stdout",
     "output_type": "stream",
     "text": [
      "Enter your first number: 32\n",
      "Enter your second number: 32\n",
      "THE ADDITION OF YOUR TWO NUMBER IS 64.0\n"
     ]
    }
   ],
   "source": [
    "## Avoid getting the error (using tray and except)\n",
    "try: ## Run this code (might have exception)\n",
    "    num1 = float(input(\"Enter your first number: \")) \n",
    "    num2 = float(input(\"Enter your second number: \"))\n",
    "    add(num1,num2)\n",
    "    \n",
    "except: ## Execute this code when there is an exception in try block\n",
    "    print (\"You didn't input a number\")"
   ]
  },
  {
   "cell_type": "code",
   "execution_count": 41,
   "metadata": {},
   "outputs": [
    {
     "name": "stdout",
     "output_type": "stream",
     "text": [
      "Enter your first number: 3\n",
      "Enter your second number: 2\n",
      "THE ADDITION OF YOUR TWO NUMBER IS 5.0\n"
     ]
    }
   ],
   "source": [
    "## We can do other cool things with our function.\n",
    "## Let's say we want our function to run forever until the user gives two \n",
    "## Integers\n",
    "\n",
    "while True: ## This code will run forever until we meet break\n",
    "    try: ## Run this code (might have exception)\n",
    "        num1 = float(input(\"Enter your first number: \")) \n",
    "        num2 = float(input(\"Enter your second number: \"))\n",
    "        add(num1,num2)\n",
    "\n",
    "    except: ## Execute this code when there is an exception in try block\n",
    "        \n",
    "        print (\"You didn't input a number\\n\")\n",
    "\n",
    "    else: ## Execute this code when there is NO exception in try block\n",
    "        break"
   ]
  },
  {
   "cell_type": "code",
   "execution_count": 42,
   "metadata": {},
   "outputs": [
    {
     "name": "stdout",
     "output_type": "stream",
     "text": [
      "Enter your first number: 3\n",
      "Enter your second number: 2\n",
      "THE ADDITION OF YOUR TWO NUMBER IS 5.0\n",
      "This was tray # 1\n"
     ]
    }
   ],
   "source": [
    "## Let's add a counter that counts how many tries did the user take \n",
    "## before inputting two numbers\n",
    "count = 1\n",
    "while True: ## This code will run forever until we meet break\n",
    "    try: ## Run this code (might have exception)\n",
    "        num1 = float(input(\"Enter your first number: \")) \n",
    "        num2 = float(input(\"Enter your second number: \"))\n",
    "        add(num1,num2)\n",
    "\n",
    "    except: ## Execute this code when there is an exception in try block\n",
    "        \n",
    "        print (\"You didn't input a number\\n\")\n",
    "\n",
    "    else: ## Execute this code when there is NO exception in try block\n",
    "        print(\"This was tray # {}\".format(count))\n",
    "        break\n",
    "    finally: ## Execute always\n",
    "        count = count + 1"
   ]
  }
 ],
 "metadata": {
  "kernelspec": {
   "display_name": "Python 3",
   "language": "python",
   "name": "python3"
  },
  "language_info": {
   "codemirror_mode": {
    "name": "ipython",
    "version": 3
   },
   "file_extension": ".py",
   "mimetype": "text/x-python",
   "name": "python",
   "nbconvert_exporter": "python",
   "pygments_lexer": "ipython3",
   "version": "3.7.3"
  }
 },
 "nbformat": 4,
 "nbformat_minor": 2
}
