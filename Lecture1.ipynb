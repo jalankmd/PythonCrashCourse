{
 "cells": [
  {
   "cell_type": "markdown",
   "metadata": {},
   "source": [
    "# Use Python as a Calculator"
   ]
  },
  {
   "cell_type": "code",
   "execution_count": null,
   "metadata": {},
   "outputs": [],
   "source": [
    "## Addition + \n",
    "2+3"
   ]
  },
  {
   "cell_type": "code",
   "execution_count": null,
   "metadata": {},
   "outputs": [],
   "source": [
    "## Subtraction -\n",
    "2-3"
   ]
  },
  {
   "cell_type": "code",
   "execution_count": null,
   "metadata": {},
   "outputs": [],
   "source": [
    "## Multiplication *\n",
    "2*3"
   ]
  },
  {
   "cell_type": "code",
   "execution_count": null,
   "metadata": {},
   "outputs": [],
   "source": [
    "## Division /\n",
    "3/2"
   ]
  },
  {
   "cell_type": "code",
   "execution_count": null,
   "metadata": {},
   "outputs": [],
   "source": [
    "## Floor Division // (Gives integer value by removing the decimal \n",
    "## without rounding off)\n",
    "5//2"
   ]
  },
  {
   "cell_type": "code",
   "execution_count": null,
   "metadata": {},
   "outputs": [],
   "source": [
    "## Module Operator % (gives the remainder)\n",
    "## Useful to check if a number is divisiable by another number (results=0)\n",
    "3%2"
   ]
  },
  {
   "cell_type": "code",
   "execution_count": null,
   "metadata": {},
   "outputs": [],
   "source": [
    "7%4"
   ]
  },
  {
   "cell_type": "code",
   "execution_count": null,
   "metadata": {},
   "outputs": [],
   "source": [
    "4%2"
   ]
  },
  {
   "cell_type": "code",
   "execution_count": null,
   "metadata": {},
   "outputs": [],
   "source": [
    "## Power **\n",
    "2**3"
   ]
  },
  {
   "cell_type": "code",
   "execution_count": null,
   "metadata": {},
   "outputs": [],
   "source": [
    "## Jupyter notebook only print the result for the last line \n",
    "\n",
    "3+4\n",
    "7*4\n",
    "\n",
    "## We can print results from all lines using print function"
   ]
  },
  {
   "cell_type": "code",
   "execution_count": null,
   "metadata": {},
   "outputs": [],
   "source": [
    "## The order of operations is\n",
    "## 1. Parentheses and conversion \n",
    "## 2. Power \n",
    "## 3. Multiplication, devision and modulos\n",
    "## 4. Additions and Subtractions \n",
    "## 5. Start from left for operations with same level of priority"
   ]
  },
  {
   "cell_type": "markdown",
   "metadata": {},
   "source": [
    "# Print Function"
   ]
  },
  {
   "cell_type": "code",
   "execution_count": null,
   "metadata": {},
   "outputs": [],
   "source": [
    "## print() function can be used to print results from any line\n",
    "## print() is a built-in function in Python\n",
    "## We can use single and double quotes in Python when printing a string\n",
    "\n",
    "print(1) # print number 1 (intger)\n",
    "print(3+4) # print result of 3+4 (integer)\n",
    "print(\"hello world\") # print a sentence (string)\n",
    "print('hello world') # print a sentence (string)"
   ]
  },
  {
   "cell_type": "code",
   "execution_count": null,
   "metadata": {},
   "outputs": [],
   "source": [
    "## We can use the single or double quotes based on if we need to have one of\n",
    "## them inside the string\n",
    "\n",
    "print(\"I can't go out today\")"
   ]
  },
  {
   "cell_type": "code",
   "execution_count": null,
   "metadata": {},
   "outputs": [],
   "source": [
    "## use \\n to print something in new line \n",
    "## use \\t for tabs \n",
    "## use \\\\ to get \\\n",
    "print(\"hello\\nworld\")\n",
    "print('....................')\n",
    "print(\"hello\\tworld\")\n",
    "print(\"hello\\\\world\") # to print hello\\world"
   ]
  },
  {
   "cell_type": "code",
   "execution_count": null,
   "metadata": {},
   "outputs": [],
   "source": [
    "## Press shift+enter to run a cell\n",
    "## For other shortcuts go to help > keyboard shortcuts\n",
    "\n",
    "print(\"hello world\")"
   ]
  },
  {
   "cell_type": "code",
   "execution_count": null,
   "metadata": {},
   "outputs": [],
   "source": [
    "## To write a text instead of code, switch from Code to Markdown or switch \n",
    "## from Code to Heading for headings"
   ]
  },
  {
   "cell_type": "markdown",
   "metadata": {},
   "source": [
    "here you can write notes"
   ]
  },
  {
   "cell_type": "markdown",
   "metadata": {},
   "source": [
    "# Numbers and Variable Assignment"
   ]
  },
  {
   "cell_type": "code",
   "execution_count": null,
   "metadata": {},
   "outputs": [],
   "source": [
    "## Two main number types\n",
    "   ## Integers which are whole numbers\n",
    "print(4)\n",
    "   ## Floating Point numbers which are numbers with a decimal\n",
    "print(3.2)\n",
    "print(10.0)"
   ]
  },
  {
   "cell_type": "code",
   "execution_count": null,
   "metadata": {},
   "outputs": [],
   "source": [
    "## Converting one type of a number to another\n",
    "\n",
    "## Python already does automatic number coversion when doing operations such as\n",
    "## int + float = float \n",
    "print(2.0 + 3)\n",
    "\n",
    "## int * float = float\n",
    "print(2.0*3)\n",
    "\n",
    "## Python allows user to explicitly perform type conversion\n",
    "## float() is a built-in function that converts a number to float\n",
    "print(float(114356))\n",
    "\n",
    "\n",
    "## int() is a built-in function that converts a number to integer\n",
    "## when float is converted to integer, the digits after the decimal point are\n",
    "## dropped\n",
    "print(int(32.423))\n",
    "print(int(1.99999))"
   ]
  },
  {
   "cell_type": "code",
   "execution_count": null,
   "metadata": {},
   "outputs": [],
   "source": [
    "## Rules for variable names\n",
    "  ## Names cannot start with a number \n",
    "  ## There can be no spaces in the name, use _ instead. \n",
    "  ## Cannot use any of these symbols : ' \" , < > / ? \\ ( ) ! @ # $ % ^ * ~ - +\n",
    "  ## Avoid using words that have special meaning in Python like \"list\" and \"str\""
   ]
  },
  {
   "cell_type": "code",
   "execution_count": null,
   "metadata": {},
   "outputs": [],
   "source": [
    "## Assign a to an integer number\n",
    "a = 2\n",
    "\n",
    "## Assign b to a float number\n",
    "b = 10.0\n",
    "\n",
    "## Assign c to a\n",
    "c = a"
   ]
  },
  {
   "cell_type": "code",
   "execution_count": null,
   "metadata": {},
   "outputs": [],
   "source": [
    "## Use type() to get the type of a value\n",
    "## type() is a built-in function\n",
    "\n",
    "print(type(4))\n",
    "print(type(3.0))\n",
    "\n",
    "## Print the variable and the type of value its assigned to\n",
    "\n",
    "a = 2\n",
    "print(a)\n",
    "print(type(a))\n",
    "print('')\n",
    "\n",
    "b = 10.0\n",
    "print(b)\n",
    "print(type(b))\n",
    "print('')\n",
    "\n",
    "a = 2\n",
    "c = a\n",
    "print(c)\n",
    "print(type(c))\n",
    "print('')\n",
    "\n",
    "d = float(a)\n",
    "print(d)\n",
    "print(type(d))\n",
    "print('')"
   ]
  },
  {
   "cell_type": "code",
   "execution_count": null,
   "metadata": {},
   "outputs": [],
   "source": [
    "## Example 1:\n",
    "\n",
    "## Task 1: Assign 5 to a variable called length and 2 to a variable called\n",
    "## height and assign the multiplication of them to a new variable called area \n",
    "## and print the result using print()\n",
    "\n",
    "## Task 2: Find the area of a circle with radius 3."
   ]
  },
  {
   "cell_type": "code",
   "execution_count": null,
   "metadata": {},
   "outputs": [],
   "source": [
    "### Solution for Example 1:\n",
    "## Task 1\n",
    "length = 5\n",
    "height = 2\n",
    "area = length*height\n",
    "print(area)\n",
    "\n",
    "## Task 2\n",
    "r = 3\n",
    "pi = 3.14\n",
    "print(3.14*(r**2))\n",
    "\n"
   ]
  },
  {
   "cell_type": "markdown",
   "metadata": {},
   "source": [
    "# Strings"
   ]
  },
  {
   "cell_type": "code",
   "execution_count": null,
   "metadata": {},
   "outputs": [],
   "source": [
    "## strings are sequence of characters (can be defined using single, \n",
    "## double, or triple quotes)\n",
    "## Triple quotes are used for strings covering many lines\n",
    "\n",
    "a = 'hello world'\n",
    "b = \"hello world\"\n",
    "c = '''helloworld'''\n",
    "\n",
    "print(a)\n",
    "print(b)\n",
    "print(c)\n",
    "print(type(c))"
   ]
  },
  {
   "cell_type": "code",
   "execution_count": null,
   "metadata": {},
   "outputs": [],
   "source": [
    "## Python uses Dynamic Typing which means variables have no type, therefore:\n",
    "## 1. We don't have to declare the type of a variable when we define it.\n",
    "## 2. We can reassign a variable to different data types \n",
    "\n",
    "a = 2 #\n",
    "a = \"hello world\"\n",
    "print(a)"
   ]
  },
  {
   "cell_type": "code",
   "execution_count": null,
   "metadata": {},
   "outputs": [],
   "source": [
    "## Use operator for variables\n",
    "\n",
    "a = 2\n",
    "a = a + a\n",
    "print(a)"
   ]
  },
  {
   "cell_type": "code",
   "execution_count": null,
   "metadata": {},
   "outputs": [],
   "source": [
    "## Operator for variables with dynamic typing\n",
    "a = 2\n",
    "a = a + float(a)\n",
    "print(a)\n",
    "\n",
    "# a change from integer 2 to float 4.0"
   ]
  },
  {
   "cell_type": "code",
   "execution_count": null,
   "metadata": {},
   "outputs": [],
   "source": [
    "## We cannot add an integer to a string (like we did with integer and float)\n",
    "\n",
    "a = 2\n",
    "#b = \"hello world\"\n",
    "#print(a+b)\n",
    "\n",
    "## To comment/uncomment multiple lines use ctr+/ in MS windows or cmd+/ in Mac"
   ]
  },
  {
   "cell_type": "code",
   "execution_count": null,
   "metadata": {},
   "outputs": [],
   "source": [
    "## We can add variables with the same type (even strings)\n",
    "## Adding two strings (+) called Concatenation\n",
    "\n",
    "a = \"hello \"\n",
    "b = \"world\"\n",
    "print (a+b)\n",
    "\n",
    "## Note that I have to add a space after hello to have a space between the \n",
    "## two strings"
   ]
  },
  {
   "cell_type": "code",
   "execution_count": null,
   "metadata": {},
   "outputs": [],
   "source": [
    "## Repetition (*) used to repeate concatenation of a string\n",
    "a = 'hello'\n",
    "b = 5*a\n",
    "\n",
    "print(a)\n",
    "print(b)"
   ]
  },
  {
   "cell_type": "code",
   "execution_count": null,
   "metadata": {},
   "outputs": [],
   "source": [
    "## str() is a built-in function that converts a number into a string\n",
    "\n",
    "## convert an integer to a string\n",
    "a = 123\n",
    "b = str(a)\n",
    "print(type(b))\n",
    "b"
   ]
  },
  {
   "cell_type": "code",
   "execution_count": null,
   "metadata": {},
   "outputs": [],
   "source": [
    "## convert a float to a string\n",
    "a = 12.32\n",
    "b = str(a)\n",
    "print(type(b))\n",
    "print(b)"
   ]
  },
  {
   "cell_type": "code",
   "execution_count": null,
   "metadata": {},
   "outputs": [],
   "source": [
    "## len() is a built-in function that counts the number of characters in a string \n",
    "print(len('hi'))\n",
    "\n",
    "## strings can have a space and it counts as a character\n",
    "a = \"hello world\"\n",
    "len(a)"
   ]
  },
  {
   "cell_type": "code",
   "execution_count": null,
   "metadata": {},
   "outputs": [],
   "source": [
    "## Avoid using built in python keywords as variable names\n",
    "## can be noticed by seeing the syntax highlighting (list is coloured)\n",
    "#str = 4\n",
    "\n",
    "## If you do it by mistake, make sure to restart the Kernel\n",
    "## Restart clear all the variables"
   ]
  },
  {
   "cell_type": "code",
   "execution_count": null,
   "metadata": {},
   "outputs": [],
   "source": [
    "## To print strings and variables in the same setence, seperate them with ,\n",
    "\n",
    "time = 10\n",
    "print(\"I will meet you at\", time, \"pm\")"
   ]
  },
  {
   "cell_type": "code",
   "execution_count": null,
   "metadata": {},
   "outputs": [],
   "source": [
    "## Example 2:\n",
    "\n",
    "## Task 1: print this statement (without '''):\n",
    "'''\n",
    "My first line\n",
    "    My second line\n",
    "        \n",
    "        My fourth line\n",
    "'''\n",
    "\n",
    "## Task 2: Compute the force of an object that has a mass of 10kg and \n",
    "## acceleration of 5m^2/s and print the results as: Force = Answer N\n",
    "## Remember Force = Mass*acceleration\n",
    "\n",
    "## Task 3: Do the same as Task 1 but show the results as float"
   ]
  },
  {
   "cell_type": "code",
   "execution_count": null,
   "metadata": {},
   "outputs": [],
   "source": [
    "### Solution for Example 2\n",
    "## Task 1\n",
    "print('''My first line\\n\\tMysecond line\\n\\n\\t\\tMy fourth line''')\n",
    "## Task 2\n",
    "mass = 10\n",
    "acc = 5\n",
    "force = mass * acc\n",
    "print(\"Force = \",force, \"N\")\n",
    "## Task 3\n",
    "mass = 10.0\n",
    "acc = 5\n",
    "force = mass * acc\n",
    "print(\"Force = \",force, \"N\")\n"
   ]
  },
  {
   "cell_type": "markdown",
   "metadata": {},
   "source": [
    "# Indexing and Slicing"
   ]
  },
  {
   "cell_type": "code",
   "execution_count": null,
   "metadata": {},
   "outputs": [],
   "source": [
    "## Strings are ordered sequence, which means we can use index and slice to grab \n",
    "## sub-sections of the string\n",
    "\n",
    "## Index notation uses [] notation after the string which allows to grab \n",
    "## a single character of the string\n",
    "\n",
    "## Slicing notation uses [] notation after the string which allows to grab \n",
    "## a subsection of multiple characters of the string [start:stop:step]\n",
    "## note that stop is the index you will go up to but not include\n",
    "\n",
    "## Character:    :h  e  l  l  o\n",
    "## Index         :0  1  2  3  4\n",
    "## Reverse Index :0 -4 -3 -2 -1\n",
    "\n",
    "a = 'hello'\n",
    "print(a[3])\n",
    "print(a[-4])"
   ]
  },
  {
   "cell_type": "code",
   "execution_count": null,
   "metadata": {},
   "outputs": [],
   "source": [
    "my_string = \"abcdefghijk\" # string with 11 characters\n",
    "len(my_string)"
   ]
  },
  {
   "cell_type": "code",
   "execution_count": null,
   "metadata": {},
   "outputs": [],
   "source": [
    "## Character:    :a   b   c   d   e   f   g   h   i   j   k\n",
    "## Index         :0   1   2   3   4   5   6   7   8   9   10\n",
    "## Reverse Index :0  -10 -9  -8  -7  -6  -5  -4  -3  -2  -1\n",
    "\n",
    "## Indexing\n",
    "print(my_string[0])\n",
    "\n",
    "## Reverse Indexing\n",
    "print(my_string[-3])\n",
    "\n",
    "## We can grab the last letter of a string without knowing its size \n",
    "print(my_string[-1])"
   ]
  },
  {
   "cell_type": "code",
   "execution_count": null,
   "metadata": {},
   "outputs": [],
   "source": [
    "## Character:    :a   b   c   d   e   f   g   h   i   j   k\n",
    "## Index         :0   1   2   3   4   5   6   7   8   9   10\n",
    "## Reverse Index :0  -10 -9  -8  -7  -6  -5  -4  -3  -2  -1\n",
    "\n",
    "## Slicing\n",
    "print(my_string[2:6:2]) # this slice characters 0, 2, and 4 (not including 6)\n",
    "\n",
    "print(my_string[3:]) # this slice characters 3 to end (default step = 1)\n",
    "\n",
    "print(my_string[:2]) # this slice characters 0 to 1 (not including 2)\n",
    "\n",
    "print(my_string[::2]) # this slice characters 0,2,4,6,8 (not including 10)"
   ]
  },
  {
   "cell_type": "code",
   "execution_count": null,
   "metadata": {},
   "outputs": [],
   "source": [
    "## Character:    :a   b   c   d   e   f   g   h   i   j   k\n",
    "## Index         :0   1   2   3   4   5   6   7   8   9   10\n",
    "## Reverse Index :0  -10 -9  -8  -7  -6  -5  -4  -3  -2  -1\n",
    "\n",
    "## Reverse Slicing \n",
    "my_string_reverse = my_string[::-1] # can be used to reverse a string\n",
    "print(my_string_reverse)"
   ]
  },
  {
   "cell_type": "code",
   "execution_count": null,
   "metadata": {},
   "outputs": [],
   "source": [
    "## Character:    :a   b   c   d   e   f   g   h   i   j   k\n",
    "## Index         :0   1   2   3   4   5   6   7   8   9   10\n",
    "## Reverse Index :0  -10 -9  -8  -7  -6  -5  -4  -3  -2  -1\n",
    "\n",
    "# Reverse Slicing \n",
    "my_string_reverse3 = my_string[0:10:-1] # Print emtpy (why??)\n",
    "print(my_string_reverse3)\n",
    "\n",
    "my_string_reverse3 = my_string[8:2:-2] # Print characters 8,6,4 (not including 2)\n",
    "print(my_string_reverse3)\n",
    "\n",
    "my_string_reverse3 = my_string[-2:-8:-2] # Print characters 8,6,4 (not including 2)\n",
    "print(my_string_reverse3)"
   ]
  },
  {
   "cell_type": "code",
   "execution_count": null,
   "metadata": {},
   "outputs": [],
   "source": [
    "## Example 3: \n",
    "\n",
    "## Task 1: Assign my_test variable to a string called \"123456789\" and print it\n",
    "\n",
    "## Task 2: Save the string '4' from my_test string to a variable \n",
    "## called my_variable using indexing and print it\n",
    "\n",
    "## Task 3: print the the string '36' from my_test string using slicing\n",
    "\n",
    "## Task 4: print the the string '369' from my_test string using slicing\n",
    "\n",
    "## Task 5: print the string '753' from my_test string using slicing and \n",
    "## reverse slicing \n",
    "\n",
    "## Task 6: print the string '369369'\n",
    "\n",
    "## Task 7: print the string '369753'"
   ]
  },
  {
   "cell_type": "code",
   "execution_count": null,
   "metadata": {},
   "outputs": [],
   "source": [
    "### Solution of Example 3\n",
    "## It might help to make this table first \n",
    "## Character:    :1   2   3   4   5   6   7   8   9 \n",
    "## Index         :0   1   2   3   4   5   6   7   8  \n",
    "## Reverse Index :0  -8  -7  -6  -5  -4  -3  -2  -1\n",
    "\n",
    "## Task 1\n",
    "my_test = \"123456789\"\n",
    "print(\"Task 1 results:\", my_test)\n",
    "\n",
    "## Task 2\n",
    "my_variable = my_test[2]\n",
    "## or \n",
    "my_variable1 = my_test[-7]\n",
    "print(\"Task 2 results:\", my_variable)\n",
    "print(\"Task 2 results:\", my_variable1)\n",
    "\n",
    "## Task 3\n",
    "print(\"Task 3 results:\", my_test[2:6:3]) # any index between 6 and 8 should \n",
    "## work for stop\n",
    "\n",
    "## Task 4\n",
    "print(\"Task 4 results:\", my_test[2:9:3]) # any index of 9 and above should \n",
    "## work for stop \n",
    "##or \n",
    "print(\"Task 4 results:\", my_test[2::3])\n",
    "\n",
    "## Task 5\n",
    "print(\"Task 5 results with slicing:\", my_test[6:1:-2])\n",
    "print(\"Task 5 results with reverse slicing:\", my_test[-3:-8:-2])\n",
    "\n",
    "## Task 6\n",
    "print(\"Task 6 results:\", my_test[2:9:3]+my_test[2:9:3])\n",
    "\n",
    "## Task 7\n",
    "print(\"Task 7 results:\", my_test[2:9:3]+my_test[6:1:-2])\n"
   ]
  },
  {
   "cell_type": "markdown",
   "metadata": {},
   "source": [
    "# String Properties and Method"
   ]
  },
  {
   "cell_type": "code",
   "execution_count": null,
   "metadata": {},
   "outputs": [],
   "source": [
    "## Immutability - means cannot change individual elements \n",
    "## of a string using indexing\n",
    "my_word = \"accent\"\n",
    "print(\"my original word:\", my_word)\n",
    "\n",
    "## can we change it to 'accept' by changing the letter n to p?\n",
    "# my_test[4] = 'p'\n",
    "\n",
    "## How can we do that without having to define a new string?\n",
    "my_modified_word = my_word[0:4] + 'p' + my_word[5]\n",
    "print(\"my modified word:\", my_modified_word)\n",
    "## This is called String Concatenation (it allows to put strings together)\n",
    "\n",
    "## or we can print with this line\n",
    "print(\"my modified word: \" + my_modified_word)\n",
    "\n"
   ]
  },
  {
   "cell_type": "code",
   "execution_count": null,
   "metadata": {},
   "outputs": [],
   "source": [
    "## Strings methods \n",
    "my_word = \"hello world\"\n",
    "\n",
    "## type my_word. and press tab to see all the methods available for strings\n",
    "\n",
    "## upper case everything in the string using string.upper()\n",
    "print(\"my_word_uppercase:\", my_word.upper())\n",
    "## This method does not change my original x\n",
    "\n",
    "## Split a string into a list (defult uses split by white space)\n",
    "print(\"split my word using white space:\", my_word.split())\n",
    "\n",
    "## Split a string into a list based on the letter you pass in \n",
    "print(\"split my word using letter l:\", my_word.split('l'))"
   ]
  },
  {
   "cell_type": "code",
   "execution_count": null,
   "metadata": {},
   "outputs": [],
   "source": [
    "## String Formatting\n",
    "## There are 3 different methods that can be used for string formatting\n",
    "## Method 1: \"old style\" string formatting (% operator)\n",
    "\n",
    "name = \"MIKE\"\n",
    "age = 23\n",
    "number = 10.3623\n",
    "print(\"Method 1 results:\")\n",
    "print(\"Hello %s, how are you?\" % name)\n",
    "print(\"%s is %d years old\" % (name,age))\n",
    "print(\"The number is %.1f\" % number)\n",
    "\n",
    "## %s Strings\n",
    "## %d Integers\n",
    "## %f Floating point numbers\n",
    "## %.<number of digits>f \n",
    "## These act as a place holders but you need to specify what type of variable\n",
    "## you will inject into these place holders\n",
    "\n",
    "\n",
    "## Method 2: \"new style\" string formatting (str.format) Python 2.7+\n",
    "\n",
    "name = \"MIKE\"\n",
    "age = 23\n",
    "number = 10.3623\n",
    "print(\"\\nMethod 2 Results:\")\n",
    "print(\"Hello {}, how are you?\".format(name))\n",
    "print(\"{} is {} years old\".format(name,age))\n",
    "print(\"The number is {}\".format(number))\n",
    "\n",
    "\n",
    "## Method 3: f-string (We don't cover it) Python 3.6+"
   ]
  },
  {
   "cell_type": "code",
   "execution_count": null,
   "metadata": {},
   "outputs": [],
   "source": [
    "## String formatting (change the order of words without changing things\n",
    "## inside format)\n",
    "\n",
    "print('The weather {} {} {} {}'.format('is', 'cold', 'in', 'canada'))\n",
    "## Method 1\n",
    "print('The weather {2} {3} {0} {1}'.format('is', 'cold', 'in', 'canada'))\n",
    "print('The weather {0} {0} {0} {0}'.format('is', 'cold', 'in', 'canada'))\n",
    "\n",
    "## Method 2\n",
    "print('The weather {n} {ca} {s} {c}'.format(s='is', c ='cold', n ='in', ca='canada'))\n",
    "print('The weather {s} {s} {s} {s}'.format(s='is', c ='cold', n ='in', ca='canada'))"
   ]
  },
  {
   "cell_type": "code",
   "execution_count": null,
   "metadata": {},
   "outputs": [],
   "source": [
    "# Float Formatting follows \"{value:width.percision f}\" (decimal places)\n",
    "a = 100/77\n",
    "print(\"the result = {}\".format(a))\n",
    "print(\"the result = {r}\". format(r=a))\n",
    "print(\"the result = {:18.3f}\". format(a))\n",
    "print(\"the result = {r:18.2f}\". format(r=a))\n",
    "print(\"the result = {r:18.1f}\". format(r=a))"
   ]
  },
  {
   "cell_type": "code",
   "execution_count": null,
   "metadata": {},
   "outputs": [],
   "source": [
    "## Example 4: \n",
    "\n",
    "## Task 1: Start with the two strings a=\"abc\" and x=\"xyz\" and rewrite \n",
    "## it as \"abcxyz\" using any of tools we have discussed\n",
    "## The answer should look like this: the modified string is: abcxyz\n",
    "\n",
    "## Task2: Compute the force of an object that has a mass of 12.3kg and \n",
    "## acceleration of 5.2m^2/s and print the results as: Force = Answer N\n",
    "## with the answer having 3 decimal places and use string formatting\n",
    "## Remember Force = Mass*acceleration\n"
   ]
  },
  {
   "cell_type": "code",
   "execution_count": null,
   "metadata": {},
   "outputs": [],
   "source": [
    "### Solution of Example 4\n",
    "## Task 1\n",
    "a = \"abc\"\n",
    "x = \"xyz\"\n",
    "print('the modified string is:', a+x)\n",
    "# or\n",
    "print('the modified string is: {}'.format(a+x))\n",
    "\n",
    "## Task 2\n",
    "m = 12.3\n",
    "a = 5.2 \n",
    "print('Force = {:.3f} N'.format(m*a))"
   ]
  },
  {
   "cell_type": "markdown",
   "metadata": {},
   "source": [
    "# Lists"
   ]
  },
  {
   "cell_type": "code",
   "execution_count": null,
   "metadata": {},
   "outputs": [],
   "source": [
    "## Lists are ordered sequences that can hold a variety of object types\n",
    "## Lists support indexing and slicing similar to strings\n",
    "## Lists are mutable not like strings\n",
    "\n",
    "number_list = [1,2.2,3]\n",
    "string_list = ['a','b','c','abc']\n",
    "mixed_list = [1,'abc',2.2,'a'] # one list can have numbers and strings "
   ]
  },
  {
   "cell_type": "code",
   "execution_count": null,
   "metadata": {},
   "outputs": [],
   "source": [
    "## Find the length of a list using the len command\n",
    "len(mixed_list) "
   ]
  },
  {
   "cell_type": "code",
   "execution_count": null,
   "metadata": {},
   "outputs": [],
   "source": [
    "## Slicing and Indexing works the same way as in strings\n",
    "print(number_list[0])\n",
    "print(mixed_list[:2])"
   ]
  },
  {
   "cell_type": "code",
   "execution_count": null,
   "metadata": {},
   "outputs": [],
   "source": [
    "## List concatenation\n",
    "new_list = string_list+mixed_list\n",
    "print(new_list)"
   ]
  },
  {
   "cell_type": "code",
   "execution_count": null,
   "metadata": {},
   "outputs": [],
   "source": [
    "## List are mutable (can replace/add/remove) items\n",
    "## Replace item\n",
    "my_list = ['zero', 'one', 'two', 'three']\n",
    "my_list[1] = 1\n",
    "print(my_list)\n",
    "\n",
    "## Add item (use append)\n",
    "my_list = ['zero', 'one', 'two', 'three']\n",
    "my_list.append('four')\n",
    "print(my_list)\n",
    "\n",
    "## Remove item (use pop)\n",
    "my_list = ['zero', 'one', 'two', 'three']\n",
    "my_list.pop() # Remove the last item in the list\n",
    "print(my_list)\n",
    "my_list.pop(1) # remove the specified index in the list\n",
    "print(my_list)\n",
    "\n",
    "## Store removed items into a new list\n",
    "my_list = ['zero', 'one', 'two', 'three'] # my original list\n",
    "my_new_list = [None]*2# Create an empty list to store removed items\n",
    "## None is an object which indicate no value (it can be used as a place holder) \n",
    "\n",
    "my_new_list[0] = my_list.pop() # save the removed item into the first index\n",
    "my_new_list[1] = my_list.pop(1) # save the removed item into the second index\n",
    "\n",
    "print(\"my_modified_list = \", my_list) # print my modified list\n",
    "print(\"my_new_list = \", my_new_list) # print the list that has the removed items\n",
    "\n",
    "# Reverse indxing works with list similar to how it works for strings"
   ]
  },
  {
   "cell_type": "code",
   "execution_count": null,
   "metadata": {},
   "outputs": [],
   "source": [
    "# Use the command sort which modifies the list in-place in ascending order\n",
    "number_list = [1,2.2,3,2,4,1.2]\n",
    "print(\"my_original_number_list = \", number_list)\n",
    "number_list.sort()\n",
    "print(\"my_sorted_number_list = \", number_list)\n",
    "\n",
    "## what do we mean by in-place?\n",
    "number_list = [1,2.2,3,2,4,1.2]\n",
    "sorted_number_list = number_list.sort()\n",
    "print(sorted_number_list)\n",
    "print(type(sorted_number_list))\n",
    "\n",
    "## The result gives None because number_list.sort() does not return anything \n",
    "## to assign to sorted_number_list "
   ]
  },
  {
   "cell_type": "code",
   "execution_count": null,
   "metadata": {},
   "outputs": [],
   "source": [
    "## Sort works for list of strings\n",
    "string_list = ['a','b','c','abc','x','l','bc']\n",
    "print(\"my_original_string_list = \", string_list)\n",
    "string_list.sort()\n",
    "print(\"my_sorted_string_list = \", string_list)"
   ]
  },
  {
   "cell_type": "code",
   "execution_count": null,
   "metadata": {},
   "outputs": [],
   "source": [
    "# Use the command reverse to reverse the order of a list\n",
    "number_list = [1,2.2,3,2,4,1.2]\n",
    "print(\"my_original_number_list = \", number_list)\n",
    "number_list.reverse()\n",
    "print(\"my_reversed_number_list = \", number_list)"
   ]
  },
  {
   "cell_type": "code",
   "execution_count": null,
   "metadata": {},
   "outputs": [],
   "source": [
    "## Use the command count to return the number of occurrences of an element\n",
    "## in a list\n",
    "number_list = [1,2.2,3,2,4,1.2,1,1.01]\n",
    "number_list.count(1)"
   ]
  },
  {
   "cell_type": "code",
   "execution_count": null,
   "metadata": {},
   "outputs": [],
   "source": [
    "## Nested List : A list that have another list as an item\n",
    "nested_list = [[1,2,3],[4,5,6],[7,8,9]]\n",
    "print(\"nested_list =\", nested_list)\n",
    "\n",
    "## Access the first list in my nested list\n",
    "print(\"first list inside my list = \", nested_list[0])\n",
    "\n",
    "## Access the second item in my last list (number 8)\n",
    "print(\"first item in my first list = \", nested_list[-1][1])\n",
    "\n",
    "## remove the second item in my last list (number 8)\n",
    "nested_list[2].pop(1)\n",
    "print(\"nested_list_modified =\", nested_list)"
   ]
  },
  {
   "cell_type": "code",
   "execution_count": null,
   "metadata": {},
   "outputs": [],
   "source": [
    "## Example 5: \n",
    "\n",
    "## Task 1: Print the smallest number of this list [1,3,1,2,0.8,0.3,-1,4,2.4]\n",
    "## by using sort and printing the first item in the list\n",
    "## Answer should be \"My smallest number is -1\"\n",
    "\n",
    "## Task 2: Print the smallest numbers of each list inside the nested list \n",
    "## [[2.3,3,-2.2],[4,-1,0],[-4,3,9.2]]\n",
    "## Answer should be \"My smallest numbers from my nested list are -2.2, -1, -4\"\n"
   ]
  },
  {
   "cell_type": "code",
   "execution_count": null,
   "metadata": {},
   "outputs": [],
   "source": [
    "### Solution of Example 5\n",
    "\n",
    "## Task 1:\n",
    "\n",
    "## Task 2:\n"
   ]
  },
  {
   "cell_type": "markdown",
   "metadata": {},
   "source": [
    "# Dictionaries"
   ]
  },
  {
   "cell_type": "code",
   "execution_count": null,
   "metadata": {},
   "outputs": [],
   "source": [
    "## Dictionaries are unordered mapping for strong objects (mutable)\n",
    "\n",
    "## Dictionaries use a key-valye pairing, which allows to grab objects \n",
    "## without needing to know an index location\n",
    "\n",
    "## Dictionaries use curly braces and colons to signify the key and their \n",
    "## associated values {'key1':'value1',\"key2\":'value2',...}\n",
    "\n",
    "## Dictionaries keys have to be immutable objects (can be integer,string\n",
    "## tuples), but not lists since lists are mutable objects\n",
    "\n",
    "## Difference between Dictionaries and Lists \n",
    "## Dictionaries reterive objects by key name and are unordered (cannot be sorted)\n",
    "## Lists reterive objects by location are ordered sequence which can be\n",
    "## indexed, sliced, or sorted \n",
    "\n",
    "my_dict = {\"brand\":\"Ford\", \"model\": \"Mustang\", \"year\": 1964}\n",
    "print(my_dict)"
   ]
  },
  {
   "cell_type": "code",
   "execution_count": null,
   "metadata": {},
   "outputs": [],
   "source": [
    "## Accessing items in dictionary\n",
    "my_dict[\"model\"]"
   ]
  },
  {
   "cell_type": "code",
   "execution_count": null,
   "metadata": {},
   "outputs": [],
   "source": [
    "## Dictionaries can hold integers, floats, strings, lists, and another dictionary\n",
    "my_dict = ({'int':3, 'float':2.3, 'string':\"hello world\", 'list':[1,2,3.2],\n",
    "             'dict':{'int':2, 'list': [3.2,2,1]}})\n",
    "\n",
    "## The parentheses can be used to split a one line code into two\n",
    "\n",
    "print(\"my integer is\", my_dict['int'])\n",
    "print(\"my string is\", my_dict['string'])\n",
    "print(\"my dict is\", my_dict['dict'])\n",
    "print(\"my list in  dict is\", my_dict['dict']['list'])\n",
    "print(\"my first item in my list in dict is\", my_dict['dict']['list'][0])"
   ]
  },
  {
   "cell_type": "code",
   "execution_count": null,
   "metadata": {},
   "outputs": [],
   "source": [
    "## Change dictionaries items \n",
    "## we can't change dictionaries keys\n",
    "my_dict = {\"brand\":\"Ford\", \"model\": \"Mustang\", \"year\": 1964}\n",
    "\n",
    "my_dict['model'] = 'Escape'\n",
    "\n",
    "print(\"my modified dict =\", my_dict, '\\n')\n",
    "\n",
    "## Add items to dictionary \n",
    "my_dict['color'] = 'blue'\n",
    "print(my_dict, '\\n')\n",
    "\n",
    "## remove items from dictionary using pop() method\n",
    "my_dict.pop('model')\n",
    "print(my_dict)"
   ]
  },
  {
   "cell_type": "code",
   "execution_count": null,
   "metadata": {},
   "outputs": [],
   "source": [
    "## get all the keys and values in the dictionary\n",
    "my_dict = {\"brand\":\"Ford\", \"model\": \"Mustang\", \"year\": 1964}\n",
    "\n",
    "print(my_dict.keys()) # use dict.keys() to get all the keys in dictionary\n",
    "\n",
    "print(my_dict.values()) # use dict.values() to get all the values in dictionary\n",
    "\n",
    "## Find the length of a dictionary using len()\n",
    "print(len(my_dict))"
   ]
  },
  {
   "cell_type": "code",
   "execution_count": null,
   "metadata": {},
   "outputs": [],
   "source": [
    "## Example 6: \n",
    "\n",
    "## Task 1: Define dictionary d = {1:10, 2:20, 3:30} and change it to \n",
    "## d = {1:10, 2:20, 4:40} then print the result\n"
   ]
  },
  {
   "cell_type": "code",
   "execution_count": null,
   "metadata": {},
   "outputs": [],
   "source": [
    "### Solution of Example 6\n",
    "## Task 1\n"
   ]
  },
  {
   "cell_type": "markdown",
   "metadata": {},
   "source": [
    "# Tuples"
   ]
  },
  {
   "cell_type": "code",
   "execution_count": null,
   "metadata": {},
   "outputs": [],
   "source": [
    "## Tuples are similar to lists but they are immutable\n",
    "## Tuples elements can not be reassigned\n",
    "## Tuples uses parenthesis () when defined (lists uses [])\n",
    "\n",
    "my_tuple = (1,2,3,4,5) # tuple\n",
    "my_list = [1,2,3,4,5] # list\n",
    "\n",
    "print(type(my_tuple))\n",
    "print(type(my_list))"
   ]
  },
  {
   "cell_type": "code",
   "execution_count": null,
   "metadata": {},
   "outputs": [],
   "source": [
    "## Tuples can have integer, float, strings, lists inside it\n",
    "my_tuple = (1.0,'two',3,4.0,3,3.000) # tuple\n",
    "\n",
    "print(\"The second element in my_tuple is:\", my_tuple[1],'\\n') # Access items inside tuples\n",
    "\n",
    "## There are only two methods for tuples (count and index)\n",
    "## Count is used to return the number of times the item is repeated\n",
    "print(\"Number of times 3 show in my_tuple:\", my_tuple.count(3),'\\n')\n",
    "## Note that 3.000 is counted too \n",
    "\n",
    "## Index is used to return the first index where the item appeared \n",
    "print(\"The first index with number 3:\", my_tuple.index(3))"
   ]
  },
  {
   "cell_type": "code",
   "execution_count": null,
   "metadata": {},
   "outputs": [],
   "source": [
    "## Immutability\n",
    "my_tuple = (1,2,3,4,5) # tuple\n",
    "my_list = [1,2,3,4,5] # list\n",
    "\n",
    "my_list[0] = 'one'\n",
    "print(\"my modified list is:\", my_list)\n",
    "\n",
    "# my_tuple[0] = 'one'\n",
    "# gives the error ('tuple' object does not support item assignment)\n",
    "\n",
    "## Tuples are useful to use when we want to make sure the object does not \n",
    "## get changed as opposed to lists "
   ]
  },
  {
   "cell_type": "markdown",
   "metadata": {},
   "source": [
    "# Sets"
   ]
  },
  {
   "cell_type": "code",
   "execution_count": null,
   "metadata": {},
   "outputs": [],
   "source": [
    "## Sets are unordered collection of unique objects (no duplicate objects)\n",
    "## Sets are mutable and defined using (sequence data)\n",
    "## Sequence data are strings, lists, and tuples\n",
    "\n",
    "my_set = set([1,4,3])\n",
    "print(my_set,'\\n')\n",
    "\n",
    "## Add a new item to a set\n",
    "my_set.add(4)\n",
    "my_set.add(2.5)\n",
    "my_set.add('five')\n",
    "print(my_set,'\\n')\n",
    "## notice that the set \n",
    "\n",
    "## Add already existed item to a set\n",
    "my_set.add(3)\n",
    "print(my_set,'\\n') # my_set will not changed\n"
   ]
  },
  {
   "cell_type": "code",
   "execution_count": null,
   "metadata": {},
   "outputs": [],
   "source": [
    "## One useful use of sets is to change a list with multiple repeated items \n",
    "## to a set of only uniuqe values\n",
    "\n",
    "## For list with integers or floats\n",
    "my_list = [0,3,1,4,12,3,2,1,3,2,4,2,3,4,5,2]\n",
    "my_set = set(my_list)\n",
    "print(my_set,'\\n')\n",
    "\n",
    "## For strings\n",
    "my_string = 'Successfully'\n",
    "my_set = set(my_string)\n",
    "print(my_set)\n",
    "## note that S and s are both kept"
   ]
  },
  {
   "cell_type": "code",
   "execution_count": null,
   "metadata": {},
   "outputs": [],
   "source": [
    "## we can use list() to convert set to list\n",
    "my_list = [0,3,1,4,12,3,2,1,3,2,4,2,3,4,5,2]\n",
    "print(my_list,'\\n')\n",
    "my_set = set(my_list)\n",
    "print(my_set,'\\n')\n",
    "my_new_list = (str(my_set))\n",
    "print(my_new_list)"
   ]
  },
  {
   "cell_type": "markdown",
   "metadata": {},
   "source": [
    "# Booleans"
   ]
  },
  {
   "cell_type": "code",
   "execution_count": null,
   "metadata": {},
   "outputs": [],
   "source": [
    "## Booleans are operators that allow to you to convey True or False statements\n",
    "\n",
    "print(type(True),'\\n')\n",
    "\n",
    "print(1>3,'\\n')\n",
    "\n",
    "print(2==2, '\\n')\n",
    "\n",
    "## We will discuss Python comparison operators in next lecture\n",
    "## Comparison operators return booleans"
   ]
  },
  {
   "cell_type": "code",
   "execution_count": null,
   "metadata": {},
   "outputs": [],
   "source": [
    "## Let's Review\n",
    "\n",
    "## Numbers used for numerical information (integers, floating point)\n",
    "\n",
    "## Strings ordered sequence of characters\n",
    "\n",
    "## Lists ordered sequence of objects (mutable)\n",
    "\n",
    "## Tuple ordered sequence of objects (immutable)\n",
    "\n",
    "## Dictionary unordered key-value pairing\n",
    "\n",
    "## Sets unordered collection of unique objects"
   ]
  },
  {
   "cell_type": "code",
   "execution_count": null,
   "metadata": {},
   "outputs": [],
   "source": [
    "# Homework \n",
    "\n",
    "## Review the Lecture 1 Jupyter Notebook by going over all the cells \n",
    "## and making sure you understand the syntax and result printed\n",
    "\n",
    "## Task 1: Start with the string S = 'Hello world'\n",
    "## do the following \n",
    "\n",
    "## a) Get the length of the string\n",
    "## Answer: (The length of the string: #)\n",
    "\n",
    "## b) Obtain the first letter of each word using indexing\n",
    "## Answer: (The first letter of each word are # and # respectively)\n",
    "\n",
    "## c) Reverse the string using slicing\n",
    "## Answer: (The reverse of the sentence is: )\n",
    "\n",
    "## d) Get the frequency of the string l\n",
    "\n",
    "## e) Use a set to find the unique values of the string\n",
    "\n",
    "## Task 2: Start with the list L = [3,2,4,3,5,2,6,3,4.3,2.3,1.2,4.3]\n",
    "## do the following \n",
    "\n",
    "## a) Get the sum of the items in the list \n",
    "## Answer: (The sum of the items in the list is: #)\n",
    "\n",
    "## b) Get the smallest and largest values in the list and print it \n",
    "## Answer: (The smallest and largest values are # and # respectively)\n",
    "\n",
    "## c) Remove duplicates from the list\n",
    "\n",
    "## d) Get the frequency of the integer 3 in the list\n",
    "\n",
    "## e) Reverse the order of the list\n",
    "\n",
    "## Task 3: Start with the nested list L = [1,[4,5.2,3.2],[7.8,4,9]]\n",
    "\n",
    "## a) Replace the number 3.2 with 7 \n",
    "\n",
    "## b) sort the list [4,5.2,3.2] inside L from smallest number to largest \n",
    "\n",
    "## c) sort the list [7.8,4,9] inside L from largest number to smallest "
   ]
  }
 ],
 "metadata": {
  "kernelspec": {
   "display_name": "Python 3",
   "language": "python",
   "name": "python3"
  },
  "language_info": {
   "codemirror_mode": {
    "name": "ipython",
    "version": 3
   },
   "file_extension": ".py",
   "mimetype": "text/x-python",
   "name": "python",
   "nbconvert_exporter": "python",
   "pygments_lexer": "ipython3",
   "version": "3.7.3"
  }
 },
 "nbformat": 4,
 "nbformat_minor": 2
}
